{
 "cells": [
  {
   "cell_type": "code",
   "execution_count": 8,
   "metadata": {},
   "outputs": [],
   "source": [
    "import datetime\n",
    "import json\n",
    "import os\n",
    "from collections import defaultdict\n",
    "import gc\n",
    "from joblib import dump, load\n",
    "import random\n",
    "import time\n",
    "from typing import List, Tuple\n",
    "\n",
    "from albumentations import (\n",
    "    Compose, Flip, Rotate\n",
    ")\n",
    "\n",
    "import cv2\n",
    "import dask\n",
    "import dask.array as da\n",
    "\n",
    "from google.cloud import storage\n",
    "import matplotlib.pyplot as plt\n",
    "import numpy as np\n",
    "import pandas as pd\n",
    "import seaborn as sns\n",
    "\n",
    "import sklearn\n",
    "from sklearn.model_selection import train_test_split\n",
    "from sklearn.linear_model import SGDClassifier, LogisticRegression\n",
    "from sklearn.metrics import accuracy_score, average_precision_score, confusion_matrix, precision_recall_fscore_support, precision_score, precision_recall_curve\n",
    "\n",
    "import tensorflow as tf\n",
    "from tensorflow.keras.applications import inception_v3, resnet_v2\n",
    "from tensorflow.keras.optimizers import Adam, RMSprop, SGD\n",
    "from tensorflow.keras.callbacks import ModelCheckpoint, EarlyStopping, ReduceLROnPlateau, TensorBoard\n",
    "from tensorflow.keras.models import Model, load_model\n",
    "from tensorflow.keras.metrics import Accuracy, binary_crossentropy\n",
    "\n",
    "from data_engineering.dask_image_stats_collector import stats_for_numpy_images \n",
    "from data_science.keras.dataset import get_image_dataset, get_predictions_for_dataset\n",
    "from data_science.graph_utils import graph_model_history\n",
    "from data_science.keras.model_checkpoint_gcs import ModelCheckpointGCS\n",
    "from data_science.keras.cnn_models import basic_cnn_model, basic_cnn_model_with_regularization, pretrained_model\n",
    "from data_science.serialization_utils import numpy_to_json, sklearn_precision_recall_curve_to_dict\n",
    "from data_science.sklearn_batch_generator import SklearnBatchGenerator\n",
    "from data_science.train import get_model_and_metadata_from_gcs, train_keras_model"
   ]
  },
  {
   "cell_type": "code",
   "execution_count": 43,
   "metadata": {},
   "outputs": [
    {
     "name": "stdout",
     "output_type": "stream",
     "text": [
      "(1, 44)\n",
      "(1,)\n",
      "14896 1824 1840\n",
      "True\n",
      "(14896, 1) (1,)\n"
     ]
    }
   ],
   "source": [
    "root = '/home/jovyan/work/data/big_earth'\n",
    "os.listdir(root)\n",
    "\n",
    "random_seed = 0\n",
    "random.seed(random_seed)\n",
    "np.random.seed(random_seed)\n",
    "tf.random.set_seed(random_seed)\n",
    "\n",
    "os.environ['GOOGLE_APPLICATION_CREDENTIALS'] = '/app/.gcs/big-earth-252219-fb2e5c109f78.json'\n",
    "gcs_client = storage.Client()\n",
    "bucket = gcs_client.bucket(\"big_earth\")\n",
    "\n",
    "n_classes = 1\n",
    "n_epochs = 100\n",
    "batch_size = 128\n",
    "\n",
    "early_stopping_patience = 6\n",
    "use_small_dataset = False\n",
    "use_random_small_dataset = False\n",
    "\n",
    "project_name = \"cloud_and_shadow\"\n",
    "model_dir = os.path.join(root, \"model/models\")\n",
    "log_dir = os.path.join(root, \"model/logs\")\n",
    "# blob prefix\n",
    "gcs_model_dir = \"model/models\"\n",
    "# tensorboard\n",
    "gcs_log_dir = \"gs://big_earth/model/logs\"\n",
    "\n",
    "for directory in [log_dir, model_dir]:\n",
    "    if not os.path.exists(directory):\n",
    "        os.makedirs(directory, exist_ok=True)\n",
    "        \n",
    "        \n",
    "# np.array(json.loads(df['binarized_labels'].iloc[0])).shape\n",
    "\n",
    "def prepare_data(df):\n",
    "    df['has_cloud_and_shadow_target'] = df['has_cloud_and_shadow_target'].apply(lambda x: np.array(json.loads(x)))\n",
    "    df['binarized_labels'] = df['binarized_labels'].apply(lambda x: np.array(json.loads(x)))    \n",
    "    df['image_path'] = root + \"/npy_image_files/\" + df['image_prefix'] + \".npy\"\n",
    "    return df\n",
    "\n",
    "df = pd.read_csv(root + \"/metadata/metadata.csv\")\n",
    "df = prepare_data(df)\n",
    "print(df['binarized_labels'].iloc[0].shape)\n",
    "print(df['has_cloud_and_shadow_target'].iloc[0].shape)\n",
    "df = df.set_index('image_prefix', drop=False)\n",
    "\n",
    "if use_small_dataset:\n",
    "    google_automl_dataset = pd.read_csv( '/app/data_science/google_automl_cloud_and_shadow_dataset_small.csv')\n",
    "    band_stats = pd.read_csv('/app/data_science/cloud_and_shadow_stats_small_train.csv')\n",
    "    band_stats[band_stats['dataset'] == 'all_small']\n",
    "else:\n",
    "    google_automl_dataset = pd.read_csv( '/app/data_science/google_automl_dataset_large.csv')\n",
    "    band_stats = pd.read_csv('/app/data_science/cloud_and_shadow_stats_large_train.csv')\n",
    "    band_stats[band_stats['dataset'] == 'all_large']\n",
    "    \n",
    "google_automl_dataset['image_prefix'] = google_automl_dataset['gcs_uri'].str.split('/').apply(lambda x: x[-1].replace(\".png\", \"\"))\n",
    "google_automl_dataset = google_automl_dataset.set_index('image_prefix', drop=False)\n",
    "\n",
    "train = df.loc[google_automl_dataset[google_automl_dataset['set'] == 'TRAIN'].index]\n",
    "valid = df.loc[google_automl_dataset[google_automl_dataset['set'] == 'VALIDATION'].index]\n",
    "test = df.loc[google_automl_dataset[google_automl_dataset['set'] == 'TEST'].index]\n",
    "\n",
    "print(len(train), len(valid), len(test))\n",
    "print(len(train) + len(valid) + len(test) == len(google_automl_dataset))   \n",
    "\n",
    "x_train = train['image_path'].values\n",
    "x_valid = valid['image_path'].values\n",
    "x_test = test['image_path'].values\n",
    "\n",
    "target = 'has_cloud_and_shadow_target'\n",
    "y_train = np.stack(train[target].values)\n",
    "y_valid = np.stack(valid[target].values)\n",
    "y_test = np.stack(test[target].values)\n",
    "\n",
    "print(y_train.shape, y_train[0].shape)"
   ]
  },
  {
   "cell_type": "code",
   "execution_count": 34,
   "metadata": {},
   "outputs": [
    {
     "name": "stdout",
     "output_type": "stream",
     "text": [
      "Downloading model blob.\n"
     ]
    }
   ],
   "source": [
    "experiment_name = f\"{project_name}_keras_cnn_bn_aug_2020_2_14\"\n",
    "model, model_base_metadata = get_model_and_metadata_from_gcs(\n",
    "    bucket, model_dir, \"h5\", load_model, gcs_model_dir, experiment_name)"
   ]
  },
  {
   "cell_type": "code",
   "execution_count": null,
   "metadata": {},
   "outputs": [],
   "source": [
    "import numpy as np\n",
    "\n",
    "\n",
    "def plot_activations(model, img):\n",
    "    layer_names = []\n",
    "    for layer in model.layers:\n",
    "        layer_names.append(layer.name) # Names of the layers, so you can have them as part of your plot\n",
    "\n",
    "    images_per_row = 12\n",
    "    layer_outputs = [layer.output for layer in model.layers]\n",
    "    activation_model = Model(inputs=model.input, outputs=layer_outputs)    \n",
    "    activations = activation_model.predict(img)\n",
    "    activations = activations\n",
    "    for layer_name, layer_activation in zip(layer_names, activations): # Displays the feature maps\n",
    "        if not 'conv2d' in layer_name:\n",
    "            continue\n",
    "        n_features = layer_activation.shape[-1] # Number of features in the feature map\n",
    "        size = layer_activation.shape[1] #The feature map has shape (1, size, size, n_features).\n",
    "        n_cols = n_features // images_per_row # Tiles the activation channels in this matrix\n",
    "        display_grid = np.zeros((size * n_cols, images_per_row * size))\n",
    "        for col in range(n_cols): # Tiles each filter into a big horizontal grid\n",
    "            for row in range(images_per_row):\n",
    "                channel_image = layer_activation[0,\n",
    "                                                 :, :,\n",
    "                                                 col * images_per_row + row]\n",
    "                channel_image -= channel_image.mean() # Post-processes the feature to make it visually palatable\n",
    "                channel_image /= channel_image.std()\n",
    "                channel_image *= 64\n",
    "                channel_image += 128\n",
    "                channel_image = np.clip(channel_image, 0, 255).astype('uint8')\n",
    "                display_grid[col * size : (col + 1) * size, # Displays the grid\n",
    "                             row * size : (row + 1) * size] = channel_image\n",
    "        scale = 1. / size\n",
    "        plt.figure(figsize=(scale * display_grid.shape[1],\n",
    "                            scale * display_grid.shape[0]))\n",
    "        plt.title(layer_name)\n",
    "        plt.grid(False)\n",
    "        plt.imshow(display_grid, aspect='auto', cmap='viridis')\n",
    "        \n",
    "x_small = [x_train[5]]\n",
    "y_small = [y_train[5]]     \n",
    "train_batch_generator = get_image_dataset(x_small, y_small, augmentations=None, band_stats=stats, \n",
    "                                          batch_size=batch_size)\n",
    "img, label = train_batch_generator.make_one_shot_iterator().get_next()\n",
    "\n",
    "plot_activations(model, img)"
   ]
  },
  {
   "cell_type": "code",
   "execution_count": null,
   "metadata": {},
   "outputs": [],
   "source": [
    "rgb_img = (img[0].numpy() * 1.6 * 256.).astype(np.int8)\n",
    "plt.imshow(rgb_img)"
   ]
  },
  {
   "cell_type": "code",
   "execution_count": 35,
   "metadata": {},
   "outputs": [
    {
     "name": "stdout",
     "output_type": "stream",
     "text": [
      "binary_crossentropy - cnn with regularization and augmentation 0.2838938\n",
      "accuracy 0.8625\n"
     ]
    },
    {
     "data": {
      "text/plain": [
       "array([[<matplotlib.axes._subplots.AxesSubplot object at 0x7f8b1074c630>]],\n",
       "      dtype=object)"
      ]
     },
     "execution_count": 35,
     "metadata": {},
     "output_type": "execute_result"
    },
    {
     "data": {
      "image/png": "[encoded data removed]",
      "text/plain": [
       "<Figure size 432x288 with 1 Axes>"
      ]
     },
     "metadata": {
      "needs_background": "light"
     },
     "output_type": "display_data"
    }
   ],
   "source": [
    "test_generator = get_image_dataset(x=x_test, y=y_test, augmentations=None, image_processor=None,\n",
    "                                    band_stats=band_stats, batch_size=batch_size)\n",
    "y_actual_test, y_pred_test, y_pred_probs_test = get_predictions_for_dataset(test_generator, model) \n",
    "\n",
    "print('binary_crossentropy - cnn with regularization and augmentation', \n",
    "      binary_crossentropy(y_actual_test, y_pred_probs_test).numpy())\n",
    "print('accuracy', accuracy_score(y_actual_test, y_pred_test))\n",
    "\n",
    "pd.DataFrame({'cloud_predicted_probability': y_pred_probs_test}).hist()"
   ]
  },
  {
   "cell_type": "code",
   "execution_count": 46,
   "metadata": {},
   "outputs": [
    {
     "data": {
      "text/html": [
       "<div>\n",
       "<style scoped>\n",
       "    .dataframe tbody tr th:only-of-type {\n",
       "        vertical-align: middle;\n",
       "    }\n",
       "\n",
       "    .dataframe tbody tr th {\n",
       "        vertical-align: top;\n",
       "    }\n",
       "\n",
       "    .dataframe thead th {\n",
       "        text-align: right;\n",
       "    }\n",
       "</style>\n",
       "<table border=\"1\" class=\"dataframe\">\n",
       "  <thead>\n",
       "    <tr style=\"text-align: right;\">\n",
       "      <th></th>\n",
       "      <th>Unnamed: 0</th>\n",
       "      <th>mean</th>\n",
       "      <th>std</th>\n",
       "      <th>min</th>\n",
       "      <th>max</th>\n",
       "      <th>dataset</th>\n",
       "    </tr>\n",
       "  </thead>\n",
       "  <tbody>\n",
       "    <tr>\n",
       "      <th>0</th>\n",
       "      <td>red</td>\n",
       "      <td>1037.286040</td>\n",
       "      <td>1904.295943</td>\n",
       "      <td>0</td>\n",
       "      <td>18946</td>\n",
       "      <td>small_train</td>\n",
       "    </tr>\n",
       "    <tr>\n",
       "      <th>1</th>\n",
       "      <td>blue</td>\n",
       "      <td>1151.790453</td>\n",
       "      <td>1750.604182</td>\n",
       "      <td>0</td>\n",
       "      <td>17921</td>\n",
       "      <td>small_train</td>\n",
       "    </tr>\n",
       "    <tr>\n",
       "      <th>2</th>\n",
       "      <td>green</td>\n",
       "      <td>1104.914808</td>\n",
       "      <td>1826.425950</td>\n",
       "      <td>0</td>\n",
       "      <td>17064</td>\n",
       "      <td>small_train</td>\n",
       "    </tr>\n",
       "  </tbody>\n",
       "</table>\n",
       "</div>"
      ],
      "text/plain": [
       "  Unnamed: 0         mean          std  min    max      dataset\n",
       "0        red  1037.286040  1904.295943    0  18946  small_train\n",
       "1       blue  1151.790453  1750.604182    0  17921  small_train\n",
       "2      green  1104.914808  1826.425950    0  17064  small_train"
      ]
     },
     "execution_count": 46,
     "metadata": {},
     "output_type": "execute_result"
    }
   ],
   "source": [
    "band_stats = pd.read_csv(root + '/cloud_and_shadow_stats_small_train.csv')\n",
    "band_stats"
   ]
  },
  {
   "cell_type": "code",
   "execution_count": 13,
   "metadata": {},
   "outputs": [
    {
     "data": {
      "text/html": [
       "<div>\n",
       "<style scoped>\n",
       "    .dataframe tbody tr th:only-of-type {\n",
       "        vertical-align: middle;\n",
       "    }\n",
       "\n",
       "    .dataframe tbody tr th {\n",
       "        vertical-align: top;\n",
       "    }\n",
       "\n",
       "    .dataframe thead th {\n",
       "        text-align: right;\n",
       "    }\n",
       "</style>\n",
       "<table border=\"1\" class=\"dataframe\">\n",
       "  <thead>\n",
       "    <tr style=\"text-align: right;\">\n",
       "      <th></th>\n",
       "      <th>data</th>\n",
       "      <th>data_prep</th>\n",
       "      <th>experiment_name</th>\n",
       "      <th>experiment_start_time</th>\n",
       "      <th>model</th>\n",
       "      <th>random_state</th>\n",
       "      <th>epoch_with_best_model</th>\n",
       "      <th>epochs_trained</th>\n",
       "      <th>optimizer</th>\n",
       "      <th>n_epochs</th>\n",
       "      <th>...</th>\n",
       "      <th>f1_score_valid</th>\n",
       "      <th>history</th>\n",
       "      <th>confusion_matrix</th>\n",
       "      <th>precision_recall_curve</th>\n",
       "      <th>y_actual_train</th>\n",
       "      <th>y_pred_train</th>\n",
       "      <th>y_pred_probs_train</th>\n",
       "      <th>y_actual_valid</th>\n",
       "      <th>y_pred_valid</th>\n",
       "      <th>y_pred_probs_valid</th>\n",
       "    </tr>\n",
       "  </thead>\n",
       "  <tbody>\n",
       "    <tr>\n",
       "      <th>0</th>\n",
       "      <td>train_valid_google_automl_cloud_and_shadow_dat...</td>\n",
       "      <td>normalization_augmentation</td>\n",
       "      <td>cloud_and_shadow_keras_cnn_bn_2020_2_14</td>\n",
       "      <td>2020-02-14 19:47</td>\n",
       "      <td>keras_cnn_bn</td>\n",
       "      <td>0</td>\n",
       "      <td>47</td>\n",
       "      <td>68</td>\n",
       "      <td>Adam</td>\n",
       "      <td>100</td>\n",
       "      <td>...</td>\n",
       "      <td>0.835681</td>\n",
       "      <td>{\"loss\": [0.5559464807934204, 0.35107554042908...</td>\n",
       "      <td>\"{\\\"data\\\": [[129, 8], [27, 89]], \\\"shape\\\": [...</td>\n",
       "      <td>{\"precision\": \"{\\\"data\\\": [0.45849802371541504...</td>\n",
       "      <td>[1, 0, 1, 0, 0, 1, 0, 1, 1, 0, 0, 1, 0, 0, 1, ...</td>\n",
       "      <td>[1, 0, 1, 0, 0, 1, 0, 1, 1, 0, 0, 1, 0, 0, 1, ...</td>\n",
       "      <td>[0.9757316708564758, 0.0007789134979248047, 0....</td>\n",
       "      <td>[0, 1, 0, 0, 0, 0, 0, 1, 1, 0, 0, 1, 1, 1, 0, ...</td>\n",
       "      <td>[1, 1, 0, 0, 0, 0, 0, 1, 0, 0, 0, 1, 1, 1, 0, ...</td>\n",
       "      <td>[0.9318985342979431, 0.9508774280548096, 0.003...</td>\n",
       "    </tr>\n",
       "    <tr>\n",
       "      <th>1</th>\n",
       "      <td>train_valid_google_automl_cloud_and_shadow_dat...</td>\n",
       "      <td>normalization_augmentation</td>\n",
       "      <td>cloud_and_shadow_keras_cnn_bn_aug_2020_2_14</td>\n",
       "      <td>2020-02-14 20:00</td>\n",
       "      <td>keras_cnn_bn</td>\n",
       "      <td>0</td>\n",
       "      <td>39</td>\n",
       "      <td>60</td>\n",
       "      <td>Adam</td>\n",
       "      <td>100</td>\n",
       "      <td>...</td>\n",
       "      <td>0.921053</td>\n",
       "      <td>{\"loss\": [0.7740095957574509, 0.47752618803737...</td>\n",
       "      <td>\"{\\\"data\\\": [[130, 7], [11, 105]], \\\"shape\\\": ...</td>\n",
       "      <td>{\"precision\": \"{\\\"data\\\": [0.45849802371541504...</td>\n",
       "      <td>[0, 1, 0, 1, 1, 0, 1, 1, 0, 0, 1, 0, 1, 1, 0, ...</td>\n",
       "      <td>[0, 1, 0, 1, 1, 0, 1, 1, 0, 0, 1, 0, 1, 0, 0, ...</td>\n",
       "      <td>[0.22297978401184082, 0.985474705696106, 0.011...</td>\n",
       "      <td>[1, 0, 0, 0, 0, 0, 1, 1, 1, 0, 1, 0, 1, 0, 0, ...</td>\n",
       "      <td>[1, 0, 0, 0, 0, 0, 0, 1, 1, 0, 1, 0, 0, 0, 0, ...</td>\n",
       "      <td>[0.9997086524963379, 0.062342941761016846, 0.0...</td>\n",
       "    </tr>\n",
       "    <tr>\n",
       "      <th>2</th>\n",
       "      <td>train_valid_google_automl_cloud_and_shadow_dat...</td>\n",
       "      <td>normalization_augmentation</td>\n",
       "      <td>cloud_and_shadow_keras_cnn_bn_dropout_aug_2020...</td>\n",
       "      <td>2020-02-14 20:08</td>\n",
       "      <td>keras_cnn_bn_dropout</td>\n",
       "      <td>0</td>\n",
       "      <td>45</td>\n",
       "      <td>66</td>\n",
       "      <td>Adam</td>\n",
       "      <td>100</td>\n",
       "      <td>...</td>\n",
       "      <td>0.916300</td>\n",
       "      <td>{\"loss\": [0.5605394275137187, 0.42890080101651...</td>\n",
       "      <td>\"{\\\"data\\\": [[130, 7], [12, 104]], \\\"shape\\\": ...</td>\n",
       "      <td>{\"precision\": \"{\\\"data\\\": [0.45849802371541504...</td>\n",
       "      <td>[0, 0, 0, 1, 1, 1, 0, 0, 1, 1, 1, 0, 0, 0, 1, ...</td>\n",
       "      <td>[0, 0, 0, 1, 1, 1, 0, 0, 1, 1, 1, 0, 0, 0, 1, ...</td>\n",
       "      <td>[0.0020144283771514893, 0.00021651387214660645...</td>\n",
       "      <td>[1, 1, 1, 0, 1, 1, 0, 0, 0, 1, 1, 1, 1, 0, 0, ...</td>\n",
       "      <td>[1, 1, 1, 0, 1, 1, 0, 0, 0, 1, 1, 1, 1, 0, 0, ...</td>\n",
       "      <td>[0.997240424156189, 0.9963773488998413, 0.9999...</td>\n",
       "    </tr>\n",
       "  </tbody>\n",
       "</table>\n",
       "<p>3 rows × 28 columns</p>\n",
       "</div>"
      ],
      "text/plain": [
       "                                                data  \\\n",
       "0  train_valid_google_automl_cloud_and_shadow_dat...   \n",
       "1  train_valid_google_automl_cloud_and_shadow_dat...   \n",
       "2  train_valid_google_automl_cloud_and_shadow_dat...   \n",
       "\n",
       "                    data_prep  \\\n",
       "0  normalization_augmentation   \n",
       "1  normalization_augmentation   \n",
       "2  normalization_augmentation   \n",
       "\n",
       "                                     experiment_name experiment_start_time  \\\n",
       "0            cloud_and_shadow_keras_cnn_bn_2020_2_14      2020-02-14 19:47   \n",
       "1        cloud_and_shadow_keras_cnn_bn_aug_2020_2_14      2020-02-14 20:00   \n",
       "2  cloud_and_shadow_keras_cnn_bn_dropout_aug_2020...      2020-02-14 20:08   \n",
       "\n",
       "                  model  random_state epoch_with_best_model  epochs_trained  \\\n",
       "0          keras_cnn_bn             0                    47              68   \n",
       "1          keras_cnn_bn             0                    39              60   \n",
       "2  keras_cnn_bn_dropout             0                    45              66   \n",
       "\n",
       "  optimizer  n_epochs  ...  f1_score_valid  \\\n",
       "0      Adam       100  ...        0.835681   \n",
       "1      Adam       100  ...        0.921053   \n",
       "2      Adam       100  ...        0.916300   \n",
       "\n",
       "                                             history  \\\n",
       "0  {\"loss\": [0.5559464807934204, 0.35107554042908...   \n",
       "1  {\"loss\": [0.7740095957574509, 0.47752618803737...   \n",
       "2  {\"loss\": [0.5605394275137187, 0.42890080101651...   \n",
       "\n",
       "                                    confusion_matrix  \\\n",
       "0  \"{\\\"data\\\": [[129, 8], [27, 89]], \\\"shape\\\": [...   \n",
       "1  \"{\\\"data\\\": [[130, 7], [11, 105]], \\\"shape\\\": ...   \n",
       "2  \"{\\\"data\\\": [[130, 7], [12, 104]], \\\"shape\\\": ...   \n",
       "\n",
       "                              precision_recall_curve  \\\n",
       "0  {\"precision\": \"{\\\"data\\\": [0.45849802371541504...   \n",
       "1  {\"precision\": \"{\\\"data\\\": [0.45849802371541504...   \n",
       "2  {\"precision\": \"{\\\"data\\\": [0.45849802371541504...   \n",
       "\n",
       "                                      y_actual_train  \\\n",
       "0  [1, 0, 1, 0, 0, 1, 0, 1, 1, 0, 0, 1, 0, 0, 1, ...   \n",
       "1  [0, 1, 0, 1, 1, 0, 1, 1, 0, 0, 1, 0, 1, 1, 0, ...   \n",
       "2  [0, 0, 0, 1, 1, 1, 0, 0, 1, 1, 1, 0, 0, 0, 1, ...   \n",
       "\n",
       "                                        y_pred_train  \\\n",
       "0  [1, 0, 1, 0, 0, 1, 0, 1, 1, 0, 0, 1, 0, 0, 1, ...   \n",
       "1  [0, 1, 0, 1, 1, 0, 1, 1, 0, 0, 1, 0, 1, 0, 0, ...   \n",
       "2  [0, 0, 0, 1, 1, 1, 0, 0, 1, 1, 1, 0, 0, 0, 1, ...   \n",
       "\n",
       "                                  y_pred_probs_train  \\\n",
       "0  [0.9757316708564758, 0.0007789134979248047, 0....   \n",
       "1  [0.22297978401184082, 0.985474705696106, 0.011...   \n",
       "2  [0.0020144283771514893, 0.00021651387214660645...   \n",
       "\n",
       "                                      y_actual_valid  \\\n",
       "0  [0, 1, 0, 0, 0, 0, 0, 1, 1, 0, 0, 1, 1, 1, 0, ...   \n",
       "1  [1, 0, 0, 0, 0, 0, 1, 1, 1, 0, 1, 0, 1, 0, 0, ...   \n",
       "2  [1, 1, 1, 0, 1, 1, 0, 0, 0, 1, 1, 1, 1, 0, 0, ...   \n",
       "\n",
       "                                        y_pred_valid  \\\n",
       "0  [1, 1, 0, 0, 0, 0, 0, 1, 0, 0, 0, 1, 1, 1, 0, ...   \n",
       "1  [1, 0, 0, 0, 0, 0, 0, 1, 1, 0, 1, 0, 0, 0, 0, ...   \n",
       "2  [1, 1, 1, 0, 1, 1, 0, 0, 0, 1, 1, 1, 1, 0, 0, ...   \n",
       "\n",
       "                                  y_pred_probs_valid  \n",
       "0  [0.9318985342979431, 0.9508774280548096, 0.003...  \n",
       "1  [0.9997086524963379, 0.062342941761016846, 0.0...  \n",
       "2  [0.997240424156189, 0.9963773488998413, 0.9999...  \n",
       "\n",
       "[3 rows x 28 columns]"
      ]
     },
     "execution_count": 13,
     "metadata": {},
     "output_type": "execute_result"
    }
   ],
   "source": [
    "experiments = [\n",
    "    \"keras_cnn_bn_2020_2_14\",\n",
    "    \"keras_cnn_bn_aug_2020_2_14\",\n",
    "    \"keras_cnn_bn_dropout_aug_2020_2_14\"\n",
    "]\n",
    "\n",
    "len_one_keys = ['data', 'data_prep', 'experiment_name', 'experiment_start_time', 'model', 'random_state', 'epoch_with_best_model', 'epochs_trained', 'optimizer', 'n_epochs', 'early_stopping_patience', 'learning_rate', 'elapsed_train_time', 'accuracy_train', 'f1_score_train', 'train_loss', 'loss', 'accuracy_valid', 'f1_score_valid']\n",
    "long_keys = ['history', 'confusion_matrix', 'precision_recall_curve', 'y_actual_train', 'y_pred_train', 'y_pred_probs_train', 'y_actual_valid', 'y_pred_valid', 'y_pred_probs_valid']\n",
    "serializable_results_list = []\n",
    "\n",
    "for experiment in experiments:\n",
    "    experiment = f\"{project_name}_{experiment}\"\n",
    "    local_filename = f'/tmp/{experiment}.json'\n",
    "    blob = bucket.blob(f\"model/models/{experiment}_metadata.json\")\n",
    "    blob.download_to_filename(local_filename)\n",
    "\n",
    "    with open(local_filename) as fileobj:\n",
    "        results = json.load(fileobj)  \n",
    "\n",
    "    try:\n",
    "        serializable_results = {k: results[k] for k in len_one_keys}\n",
    "        for key in long_keys:\n",
    "            serializable_results[key] = json.dumps(results[key])\n",
    "        serializable_results_list.append(serializable_results)\n",
    "    except KeyError:\n",
    "        print('keyerror')\n",
    "        print(experiment)\n",
    "    \n",
    "df = pd.DataFrame(serializable_results_list, index=[num for num in range(len(serializable_results_list))])"
   ]
  },
  {
   "cell_type": "code",
   "execution_count": 29,
   "metadata": {},
   "outputs": [
    {
     "data": {
      "image/png": "[encoded data removed]",
      "text/plain": [
       "<Figure size 864x288 with 2 Axes>"
      ]
     },
     "metadata": {
      "needs_background": "light"
     },
     "output_type": "display_data"
    }
   ],
   "source": [
    "graph_model_history(json.loads(\n",
    "    df[df['experiment_name'] == 'cloud_and_shadow_keras_cnn_bn_aug_2020_2_14'].iloc[0].to_dict()['history']),\n",
    "                    'CNN w/ BN + aug'\n",
    ")"
   ]
  },
  {
   "cell_type": "code",
   "execution_count": null,
   "metadata": {},
   "outputs": [],
   "source": [
    "graph_model_history()"
   ]
  },
  {
   "cell_type": "code",
   "execution_count": 15,
   "metadata": {},
   "outputs": [
    {
     "data": {
      "text/html": [
       "<div>\n",
       "<style scoped>\n",
       "    .dataframe tbody tr th:only-of-type {\n",
       "        vertical-align: middle;\n",
       "    }\n",
       "\n",
       "    .dataframe tbody tr th {\n",
       "        vertical-align: top;\n",
       "    }\n",
       "\n",
       "    .dataframe thead th {\n",
       "        text-align: right;\n",
       "    }\n",
       "</style>\n",
       "<table border=\"1\" class=\"dataframe\">\n",
       "  <thead>\n",
       "    <tr style=\"text-align: right;\">\n",
       "      <th></th>\n",
       "      <th>experiment_name</th>\n",
       "      <th>optimizer</th>\n",
       "      <th>learning_rate</th>\n",
       "      <th>elapsed_train_time</th>\n",
       "      <th>n_epochs</th>\n",
       "      <th>accuracy_train</th>\n",
       "      <th>accuracy_valid</th>\n",
       "    </tr>\n",
       "  </thead>\n",
       "  <tbody>\n",
       "    <tr>\n",
       "      <th>1</th>\n",
       "      <td>cloud_and_shadow_keras_cnn_bn_aug_2020_2_14</td>\n",
       "      <td>Adam</td>\n",
       "      <td>0.0003</td>\n",
       "      <td>454.221244</td>\n",
       "      <td>100</td>\n",
       "      <td>0.927635</td>\n",
       "      <td>0.928854</td>\n",
       "    </tr>\n",
       "    <tr>\n",
       "      <th>2</th>\n",
       "      <td>cloud_and_shadow_keras_cnn_bn_dropout_aug_2020...</td>\n",
       "      <td>Adam</td>\n",
       "      <td>0.0003</td>\n",
       "      <td>524.862098</td>\n",
       "      <td>100</td>\n",
       "      <td>0.947562</td>\n",
       "      <td>0.924901</td>\n",
       "    </tr>\n",
       "    <tr>\n",
       "      <th>0</th>\n",
       "      <td>cloud_and_shadow_keras_cnn_bn_2020_2_14</td>\n",
       "      <td>Adam</td>\n",
       "      <td>0.0003</td>\n",
       "      <td>497.685306</td>\n",
       "      <td>100</td>\n",
       "      <td>0.999476</td>\n",
       "      <td>0.861660</td>\n",
       "    </tr>\n",
       "  </tbody>\n",
       "</table>\n",
       "</div>"
      ],
      "text/plain": [
       "                                     experiment_name optimizer  learning_rate  \\\n",
       "1        cloud_and_shadow_keras_cnn_bn_aug_2020_2_14      Adam         0.0003   \n",
       "2  cloud_and_shadow_keras_cnn_bn_dropout_aug_2020...      Adam         0.0003   \n",
       "0            cloud_and_shadow_keras_cnn_bn_2020_2_14      Adam         0.0003   \n",
       "\n",
       "   elapsed_train_time  n_epochs  accuracy_train  accuracy_valid  \n",
       "1          454.221244       100        0.927635        0.928854  \n",
       "2          524.862098       100        0.947562        0.924901  \n",
       "0          497.685306       100        0.999476        0.861660  "
      ]
     },
     "execution_count": 15,
     "metadata": {},
     "output_type": "execute_result"
    }
   ],
   "source": [
    "df.columns\n",
    "df[['experiment_name', 'optimizer', 'learning_rate', 'elapsed_train_time', 'n_epochs', 'accuracy_train', 'accuracy_valid']].sort_values(\n",
    "    by='accuracy_valid', ascending=False)"
   ]
  },
  {
   "cell_type": "code",
   "execution_count": 6,
   "metadata": {
    "scrolled": true
   },
   "outputs": [
    {
     "name": "stdout",
     "output_type": "stream",
     "text": [
      "cloud_and_shadow_basic_cnn_2020_1_31\n",
      "cloud_and_shadow_basic_cnn_aug_bn_dropout_2020_2_12\n",
      "cloud_and_shadow_basic_cnn_best_practices_2020_1_31\n",
      "cloud_and_shadow_basic_cnn_with_regularization_2020_1_31\n",
      "cloud_and_shadow_basic_cnn_with_regularization_and_aug_2020_1_31\n"
     ]
    }
   ],
   "source": [
    "experiments = [\n",
    "    \"cloud_and_shadow_basic_cnn_2020_1_31\",\n",
    "    \"cloud_and_shadow_basic_cnn_aug_bn_dropout_2020_2_12\",\n",
    "    \"cloud_and_shadow_basic_cnn_best_practices_2020_1_31\",\n",
    "    \"cloud_and_shadow_basic_cnn_with_regularization_2020_1_31\",\n",
    "    \"cloud_and_shadow_basic_cnn_with_regularization_and_aug_2020_1_31\",\n",
    "#     \"cloud_and_shadow_inception_v3_with_aug_2020_2_08\",\n",
    "#     \"cloud_and_shadow_inception_v3_with_aug_lr_1e-6_2020_2_08\",\n",
    "#     \"cloud_and_shadow_resnet_v2_with_aug_2020_2_08\",\n",
    "#     \"cloud_and_shadow_resnet_v2_with_aug_early_stopping_15_2020_2_08\",\n",
    "#     \"cloud_and_shadow_resnet_v2_with_aug_early_stopping_20_lr_3e-4_2020_2_08\",\n",
    "]\n",
    "\n",
    "\n",
    "len_one_keys = ['data', 'data_prep', 'experiment_name', 'experiment_start_time', 'model', 'random_state', 'epoch_with_best_model', 'epochs_trained', 'optimizer', 'n_epochs', 'early_stopping_patience', 'learning_rate', 'elapsed_train_time', 'accuracy_train', 'f1_score_train', 'train_loss', 'loss', 'accuracy_valid', 'f1_score_valid']\n",
    "long_keys = ['history', 'confusion_matrix', 'precision_recall_curve', 'y_actual_train', 'y_pred_train', 'y_pred_probs_train', 'y_actual_valid', 'y_pred_valid', 'y_pred_probs_valid']\n",
    "serializable_results_list = []\n",
    "\n",
    "# models = {}\n",
    "metadatas = {}\n",
    "bucket = gcs_client.bucket(\"big_earth\")\n",
    "results = defaultdict(dict)\n",
    "for experiment_name in experiments:\n",
    "    print(experiment_name)\n",
    "    model_path = os.path.join('model/models', experiment_name + '.h5')\n",
    "    blob = bucket.blob(model_path)\n",
    "    blob.download_to_filename(root + '/' + model_path)\n",
    "    model = load_model(root + '/' + model_path)\n",
    "#     models[experiment] = model\n",
    "    \n",
    "    metadata_path = os.path.join('model/models', experiment_name + '_metadata.json')\n",
    "    blob = bucket.blob(metadata_path)\n",
    "    blob.download_to_filename(root + '/' + metadata_path)\n",
    "    with open(root + '/' + metadata_path) as metadata_fileobj:\n",
    "        metadata = json.load(metadata_fileobj)\n",
    "   \n",
    "    metadatas[experiment_name] = metadata\n",
    "    \n",
    "    train_generator = get_image_dataset(x=x_train, y=y_train, augmentations=None, image_processor=None,\n",
    "                                    band_stats=band_stats, batch_size=batch_size)\n",
    "    valid_generator = get_image_dataset(x=x_valid, y=y_valid, augmentations=None, image_processor=None,\n",
    "                                    band_stats=band_stats, batch_size=batch_size)\n",
    "    y_actual_train, y_pred_train, y_pred_probs_train = get_predictions_for_dataset(train_generator, model)    \n",
    "    y_actual_valid, y_pred_valid, y_pred_probs_valid = get_predictions_for_dataset(valid_generator, model)\n",
    "    \n",
    "    results[experiment_name]['y_pred_train'] = y_pred_train\n",
    "    results[experiment_name]['y_pred_probs_train'] = y_pred_probs_train\n",
    "    results[experiment_name]['y_actual_train'] = y_actual_train\n",
    "    \n",
    "    results[experiment_name]['y_pred_valid'] = y_pred_valid\n",
    "    results[experiment_name]['y_pred_probs_valid'] = y_pred_probs_valid\n",
    "    results[experiment_name]['y_actual_valid'] = y_actual_valid\n",
    "#     local_filename = f'/tmp/{experiment}.json'\n",
    "#     blob = bucket.blob(f\"model/models/{experiment}_metadata.json\")\n",
    "#     blob.download_to_filename(local_filename)\n",
    "\n",
    "#     with open(local_filename) as fileobj:\n",
    "#         results = json.load(fileobj)  \n",
    "\n",
    "#     try:\n",
    "#     serializable_results = {k: results[k] for k in ['experiment_name', 'accuracy_train', 'accuracy_valid']}\n",
    "# #         serializable_results = {k: results[k] for k in len_one_keys}\n",
    "# #         for key in long_keys:\n",
    "# #             serializable_results[key] = json.dumps(results[key])\n",
    "#         serializable_results_list.append(serializable_results)\n",
    "#     except KeyError:\n",
    "#         print('keyerror')\n",
    "#         print(experiment)\n",
    "    \n",
    "# df = pd.DataFrame(serializable_results_list, index=[num for num in range(len(serializable_results_list))])\n"
   ]
  },
  {
   "cell_type": "code",
   "execution_count": 11,
   "metadata": {},
   "outputs": [],
   "source": [
    "accuracy_results = []\n",
    "for k, result in results.items():\n",
    "    accuracy_results.append({\n",
    "        'experiment_name': k,\n",
    "        'accuracy_train': accuracy_score(result['y_actual_train'], result['y_pred_train']),\n",
    "        'accuracy_valid': accuracy_score(result['y_actual_valid'], result['y_pred_valid']),  \n",
    "        'loss_valid': binary_crossentropy(result['y_actual_valid'], result['y_pred_probs_valid']).numpy(),\n",
    "        'average_precision_score': average_precision_score(result['y_actual_valid'], result['y_pred_probs_valid'])\n",
    "    })\n",
    "    \n",
    "d = pd.DataFrame(accuracy_results)\n",
    "d.sort_values(by='accuracy_valid', ascending=False)\n",
    "d.to_csv('1_31_experiment_results.csv', index=False)"
   ]
  },
  {
   "cell_type": "code",
   "execution_count": 56,
   "metadata": {},
   "outputs": [
    {
     "data": {
      "text/plain": [
       "0.9130434782608695"
      ]
     },
     "execution_count": 56,
     "metadata": {},
     "output_type": "execute_result"
    }
   ],
   "source": [
    "accuracy_score(results['cloud_and_shadow_basic_cnn_2020_1_31']['y_actual_valid'], \n",
    "               results['cloud_and_shadow_basic_cnn_2020_1_31']['y_pred_valid'])"
   ]
  },
  {
   "cell_type": "code",
   "execution_count": 59,
   "metadata": {},
   "outputs": [
    {
     "name": "stdout",
     "output_type": "stream",
     "text": [
      "0.9402202367782593 0.9288537502288818\n"
     ]
    }
   ],
   "source": [
    "print(metadatas['cloud_and_shadow_basic_cnn_2020_1_31']['history']['accuracy'],\n",
    "      metadatas['cloud_and_shadow_basic_cnn_2020_1_31']['history']['val_accuracy'])"
   ]
  },
  {
   "cell_type": "code",
   "execution_count": null,
   "metadata": {},
   "outputs": [],
   "source": [
    "def plot_confusion_matrix(cm,\n",
    "                          target_names,\n",
    "                          title='Confusion matrix',\n",
    "                          cmap=None,\n",
    "                          normalize=True):\n",
    "    \"\"\"\n",
    "    given a sklearn confusion matrix (cm), make a nice plot\n",
    "\n",
    "    Arguments\n",
    "    ---------\n",
    "    cm:           confusion matrix from sklearn.metrics.confusion_matrix\n",
    "\n",
    "    target_names: given classification classes such as [0, 1, 2]\n",
    "                  the class names, for example: ['high', 'medium', 'low']\n",
    "\n",
    "    title:        the text to display at the top of the matrix\n",
    "\n",
    "    cmap:         the gradient of the values displayed from matplotlib.pyplot.cm\n",
    "                  see http://matplotlib.org/examples/color/colormaps_reference.html\n",
    "                  plt.get_cmap('jet') or plt.cm.Blues\n",
    "\n",
    "    normalize:    If False, plot the raw numbers\n",
    "                  If True, plot the proportions\n",
    "\n",
    "    Usage\n",
    "    -----\n",
    "    plot_confusion_matrix(cm           = cm,                  # confusion matrix created by\n",
    "                                                              # sklearn.metrics.confusion_matrix\n",
    "                          normalize    = True,                # show proportions\n",
    "                          target_names = y_labels_vals,       # list of names of the classes\n",
    "                          title        = best_estimator_name) # title of graph\n",
    "\n",
    "    Citiation\n",
    "    ---------\n",
    "    http://scikit-learn.org/stable/auto_examples/model_selection/plot_confusion_matrix.html\n",
    "\n",
    "    \"\"\"\n",
    "    import matplotlib.pyplot as plt\n",
    "    import numpy as np\n",
    "    import itertools\n",
    "\n",
    "    accuracy = np.trace(cm) / np.sum(cm).astype('float')\n",
    "    misclass = 1 - accuracy\n",
    "\n",
    "    if cmap is None:\n",
    "        cmap = plt.get_cmap('Blues')\n",
    "\n",
    "    plt.figure(figsize=(8, 6))\n",
    "    plt.imshow(cm, interpolation='nearest', cmap=cmap)\n",
    "    plt.title(title)\n",
    "    plt.colorbar()\n",
    "\n",
    "    if target_names is not None:\n",
    "        tick_marks = np.arange(len(target_names))\n",
    "        plt.xticks(tick_marks, target_names, rotation=45)\n",
    "        plt.yticks(tick_marks, target_names)\n",
    "\n",
    "    if normalize:\n",
    "        cm = cm.astype('float') / cm.sum(axis=1)[:, np.newaxis]\n",
    "\n",
    "\n",
    "    thresh = cm.max() / 1.5 if normalize else cm.max() / 2\n",
    "    for i, j in itertools.product(range(cm.shape[0]), range(cm.shape[1])):\n",
    "        if normalize:\n",
    "            plt.text(j, i, \"{:0.4f}\".format(cm[i, j]),\n",
    "                     horizontalalignment=\"center\",\n",
    "                     color=\"white\" if cm[i, j] > thresh else \"black\")\n",
    "        else:\n",
    "            plt.text(j, i, \"{:,}\".format(cm[i, j]),\n",
    "                     horizontalalignment=\"center\",\n",
    "                     color=\"white\" if cm[i, j] > thresh else \"black\")\n",
    "\n",
    "\n",
    "    plt.tight_layout()\n",
    "    plt.ylabel('True label')\n",
    "    plt.xlabel('Predicted label\\naccuracy={:0.4f}; misclass={:0.4f}'.format(accuracy, misclass))\n",
    "    plt.show()"
   ]
  },
  {
   "cell_type": "code",
   "execution_count": 64,
   "metadata": {},
   "outputs": [
    {
     "data": {
      "text/plain": [
       "0.9587996911486361"
      ]
     },
     "execution_count": 64,
     "metadata": {},
     "output_type": "execute_result"
    }
   ],
   "source": [
    "average_precision_score(y_actual_test, y_pred_probs_test)"
   ]
  },
  {
   "cell_type": "code",
   "execution_count": 37,
   "metadata": {},
   "outputs": [
    {
     "data": {
      "text/plain": [
       "(0.93, 0.7815126050420168, 0.8493150684931506, None)"
      ]
     },
     "execution_count": 37,
     "metadata": {},
     "output_type": "execute_result"
    }
   ],
   "source": [
    "sklearn.metrics.precision_recall_fscore_support(y_actual_test, y_pred_test, average='binary') "
   ]
  },
  {
   "cell_type": "code",
   "execution_count": 40,
   "metadata": {},
   "outputs": [
    {
     "data": {
      "image/png": "[encoded data removed]",
      "text/plain": [
       "<Figure size 576x432 with 2 Axes>"
      ]
     },
     "metadata": {
      "needs_background": "light"
     },
     "output_type": "display_data"
    }
   ],
   "source": [
    "cm = confusion_matrix(y_actual_test, y_pred_test)\n",
    "# Put in same format as google automl\n",
    "cm = np.array(\n",
    "    [[cm[1][1], cm[1][0]],\n",
    "     [cm[0][1], cm[0][0]]\n",
    "])\n",
    "plot_confusion_matrix(cm, target_names=['cloud', 'no_cloud'],\n",
    "                          title='Confusion matrix',\n",
    "                          cmap=None,\n",
    "                          normalize=True)"
   ]
  },
  {
   "cell_type": "code",
   "execution_count": 45,
   "metadata": {},
   "outputs": [],
   "source": [
    "precision, recall, thresholds = precision_recall_curve(y_actual_test, y_pred_probs_test)"
   ]
  },
  {
   "cell_type": "code",
   "execution_count": 46,
   "metadata": {},
   "outputs": [],
   "source": [
    "precision = precision[:-1]\n",
    "recall = recall[:-1]\n",
    "df = pd.concat([\n",
    "    pd.DataFrame({'stat_name': ['precision' for _ in range(len(precision))],\n",
    "                  'stat_value': precision,\n",
    "                  'threshold': thresholds}),\n",
    "    pd.DataFrame({'stat_name': ['recall' for _ in range(len(precision))],\n",
    "                  'stat_value': recall,\n",
    "                  'threshold': thresholds})    \n",
    "])"
   ]
  },
  {
   "cell_type": "code",
   "execution_count": 41,
   "metadata": {
    "scrolled": true
   },
   "outputs": [
    {
     "data": {
      "text/html": [
       "<div>\n",
       "<style scoped>\n",
       "    .dataframe tbody tr th:only-of-type {\n",
       "        vertical-align: middle;\n",
       "    }\n",
       "\n",
       "    .dataframe tbody tr th {\n",
       "        vertical-align: top;\n",
       "    }\n",
       "\n",
       "    .dataframe thead th {\n",
       "        text-align: right;\n",
       "    }\n",
       "</style>\n",
       "<table border=\"1\" class=\"dataframe\">\n",
       "  <thead>\n",
       "    <tr style=\"text-align: right;\">\n",
       "      <th></th>\n",
       "      <th>precision</th>\n",
       "      <th>recall</th>\n",
       "      <th>threshold</th>\n",
       "    </tr>\n",
       "  </thead>\n",
       "  <tbody>\n",
       "    <tr>\n",
       "      <th>74</th>\n",
       "      <td>0.851240</td>\n",
       "      <td>0.865546</td>\n",
       "      <td>0.183968</td>\n",
       "    </tr>\n",
       "    <tr>\n",
       "      <th>75</th>\n",
       "      <td>0.858333</td>\n",
       "      <td>0.865546</td>\n",
       "      <td>0.192485</td>\n",
       "    </tr>\n",
       "    <tr>\n",
       "      <th>76</th>\n",
       "      <td>0.865546</td>\n",
       "      <td>0.865546</td>\n",
       "      <td>0.192663</td>\n",
       "    </tr>\n",
       "    <tr>\n",
       "      <th>77</th>\n",
       "      <td>0.864407</td>\n",
       "      <td>0.857143</td>\n",
       "      <td>0.196512</td>\n",
       "    </tr>\n",
       "    <tr>\n",
       "      <th>78</th>\n",
       "      <td>0.871795</td>\n",
       "      <td>0.857143</td>\n",
       "      <td>0.203125</td>\n",
       "    </tr>\n",
       "    <tr>\n",
       "      <th>...</th>\n",
       "      <td>...</td>\n",
       "      <td>...</td>\n",
       "      <td>...</td>\n",
       "    </tr>\n",
       "    <tr>\n",
       "      <th>190</th>\n",
       "      <td>1.000000</td>\n",
       "      <td>0.042017</td>\n",
       "      <td>0.998844</td>\n",
       "    </tr>\n",
       "    <tr>\n",
       "      <th>191</th>\n",
       "      <td>1.000000</td>\n",
       "      <td>0.033613</td>\n",
       "      <td>0.998897</td>\n",
       "    </tr>\n",
       "    <tr>\n",
       "      <th>192</th>\n",
       "      <td>1.000000</td>\n",
       "      <td>0.025210</td>\n",
       "      <td>0.999755</td>\n",
       "    </tr>\n",
       "    <tr>\n",
       "      <th>193</th>\n",
       "      <td>1.000000</td>\n",
       "      <td>0.016807</td>\n",
       "      <td>0.999910</td>\n",
       "    </tr>\n",
       "    <tr>\n",
       "      <th>194</th>\n",
       "      <td>1.000000</td>\n",
       "      <td>0.008403</td>\n",
       "      <td>1.000000</td>\n",
       "    </tr>\n",
       "  </tbody>\n",
       "</table>\n",
       "<p>121 rows × 3 columns</p>\n",
       "</div>"
      ],
      "text/plain": [
       "     precision    recall  threshold\n",
       "74    0.851240  0.865546   0.183968\n",
       "75    0.858333  0.865546   0.192485\n",
       "76    0.865546  0.865546   0.192663\n",
       "77    0.864407  0.857143   0.196512\n",
       "78    0.871795  0.857143   0.203125\n",
       "..         ...       ...        ...\n",
       "190   1.000000  0.042017   0.998844\n",
       "191   1.000000  0.033613   0.998897\n",
       "192   1.000000  0.025210   0.999755\n",
       "193   1.000000  0.016807   0.999910\n",
       "194   1.000000  0.008403   1.000000\n",
       "\n",
       "[121 rows x 3 columns]"
      ]
     },
     "execution_count": 41,
     "metadata": {},
     "output_type": "execute_result"
    }
   ],
   "source": [
    "df = pd.DataFrame({'precision': precision, 'recall': recall, 'threshold': thresholds})\n",
    "df[df['threshold'] > .18]"
   ]
  },
  {
   "cell_type": "code",
   "execution_count": 47,
   "metadata": {
    "scrolled": true
   },
   "outputs": [
    {
     "data": {
      "text/plain": [
       "Text(0.5, 1.0, 'Precision/Recall per Threshold')"
      ]
     },
     "execution_count": 47,
     "metadata": {},
     "output_type": "execute_result"
    },
    {
     "data": {
      "image/png": "[encoded data removed]",
      "text/plain": [
       "<Figure size 432x288 with 1 Axes>"
      ]
     },
     "metadata": {
      "needs_background": "light"
     },
     "output_type": "display_data"
    }
   ],
   "source": [
    "ax = sns.lineplot(y=df['stat_value'], x=df['threshold'], hue=df['stat_name'], \n",
    "                  palette={'precision': 'red', 'recall': 'blue'})\n",
    "ax.set_title('Precision/Recall per Threshold')\n",
    "# ax.fill_between(recall,precision, color=\"darkblue\", alpha=0.3)"
   ]
  },
  {
   "cell_type": "code",
   "execution_count": null,
   "metadata": {},
   "outputs": [],
   "source": [
    "# Hyperparameter tuning"
   ]
  },
  {
   "cell_type": "code",
   "execution_count": 3,
   "metadata": {},
   "outputs": [],
   "source": [
    "experiments = [\n",
    "    \"cloud_and_shadow_cnn_bn_hopt_lr_0.00012387_optimizer_SGD_2020_2_13\",\n",
    "\"cloud_and_shadow_cnn_bn_hopt_lr_0.00015907_optimizer_SGD_2020_2_13\",\n",
    "\"cloud_and_shadow_cnn_bn_hopt_lr_0.0001945_optimizer_SGD_2020_2_13\",\n",
    "\"cloud_and_shadow_cnn_bn_hopt_lr_0.00023558_optimizer_SGD_2020_2_13\",\n",
    "\"cloud_and_shadow_cnn_bn_hopt_lr_0.00024361_optimizer_RMSprop_2020_2_13\",\n",
    "\"cloud_and_shadow_cnn_bn_hopt_lr_0.0002532_optimizer_SGD_2020_2_13\",\n",
    "\"cloud_and_shadow_cnn_bn_hopt_lr_0.00027934_optimizer_Adam_2020_2_13\",\n",
    "\"cloud_and_shadow_cnn_bn_hopt_lr_0.00037462_optimizer_RMSprop_2020_2_13\",\n",
    "\"cloud_and_shadow_cnn_bn_hopt_lr_0.00041657_optimizer_SGD_2020_2_13\",\n",
    "\"cloud_and_shadow_cnn_bn_hopt_lr_0.00043806_optimizer_RMSprop_2020_2_13\",\n",
    "\"cloud_and_shadow_cnn_bn_hopt_lr_0.00049497_optimizer_RMSprop_2020_2_13\",\n",
    "\"cloud_and_shadow_cnn_bn_hopt_lr_0.00057232_optimizer_Adam_2020_2_13\",\n",
    "\"cloud_and_shadow_cnn_bn_hopt_lr_0.00063454_optimizer_Adam_2020_2_13\",\n",
    "\"cloud_and_shadow_cnn_bn_hopt_lr_0.00065432_optimizer_Adam_2020_2_13\",\n",
    "\"cloud_and_shadow_cnn_bn_hopt_lr_0.00084517_optimizer_RMSprop_2020_2_13\",\n",
    "\"cloud_and_shadow_cnn_bn_hopt_lr_0.0008693_optimizer_RMSprop_2020_2_13\",\n",
    "\"cloud_and_shadow_cnn_bn_hopt_lr_0.00093852_optimizer_RMSprop_2020_2_13\",\n",
    "\"cloud_and_shadow_cnn_bn_hopt_lr_0.00136203_optimizer_RMSprop_2020_2_13\",\n",
    "\"cloud_and_shadow_cnn_bn_hopt_lr_0.00153225_optimizer_RMSprop_2020_2_13\",\n",
    "\"cloud_and_shadow_cnn_bn_hopt_lr_0.00168857_optimizer_RMSprop_2020_2_13\",\n",
    "\"cloud_and_shadow_cnn_bn_hopt_lr_0.00219341_optimizer_RMSprop_2020_2_13\",\n",
    "\"cloud_and_shadow_cnn_bn_hopt_lr_0.00244096_optimizer_RMSprop_2020_2_13\",\n",
    "\"cloud_and_shadow_cnn_bn_hopt_lr_0.00323063_optimizer_SGD_2020_2_13\",\n",
    "\"cloud_and_shadow_cnn_bn_hopt_lr_0.0035308_optimizer_Adam_2020_2_13\",\n",
    "\"cloud_and_shadow_cnn_bn_hopt_lr_0.00397654_optimizer_RMSprop_2020_2_13\",\n",
    "\"cloud_and_shadow_cnn_bn_hopt_lr_0.00496855_optimizer_RMSprop_2020_2_13\",\n",
    "\"cloud_and_shadow_cnn_bn_hopt_lr_0.00541214_optimizer_SGD_2020_2_13\",\n",
    "\"cloud_and_shadow_cnn_bn_hopt_lr_0.00882552_optimizer_RMSprop_2020_2_13\",\n",
    "\"cloud_and_shadow_cnn_bn_hopt_lr_0.00931584_optimizer_Adam_2020_2_13\",\n",
    "\"cloud_and_shadow_cnn_bn_hopt_lr_0.00973927_optimizer_RMSprop_2020_2_13\",\n",
    "\"cloud_and_shadow_cnn_bn_hopt_lr_1.032e-05_optimizer_RMSprop_2020_2_13\",\n",
    "\"cloud_and_shadow_cnn_bn_hopt_lr_1.146e-05_optimizer_Adam_2020_2_13\",\n",
    "\"cloud_and_shadow_cnn_bn_hopt_lr_1.296e-05_optimizer_RMSprop_2020_2_13\",\n",
    "\"cloud_and_shadow_cnn_bn_hopt_lr_2.053e-05_optimizer_RMSprop_2020_2_13\",\n",
    "\"cloud_and_shadow_cnn_bn_hopt_lr_2.086e-05_optimizer_RMSprop_2020_2_13\",\n",
    "\"cloud_and_shadow_cnn_bn_hopt_lr_2.383e-05_optimizer_Adam_2020_2_13\",\n",
    "\"cloud_and_shadow_cnn_bn_hopt_lr_3.665e-05_optimizer_Adam_2020_2_13\",\n",
    "\"cloud_and_shadow_cnn_bn_hopt_lr_4.39e-05_optimizer_RMSprop_2020_2_13\",\n",
    "\"cloud_and_shadow_cnn_bn_hopt_lr_5.246e-05_optimizer_RMSprop_2020_2_13\",\n",
    "\"cloud_and_shadow_cnn_bn_hopt_lr_5.635e-05_optimizer_RMSprop_2020_2_13\",\n",
    "\"cloud_and_shadow_cnn_bn_hopt_lr_5.673e-05_optimizer_RMSprop_2020_2_13\",\n",
    "\"cloud_and_shadow_cnn_bn_hopt_lr_5.984e-05_optimizer_Adam_2020_2_13\",\n",
    "\"cloud_and_shadow_cnn_bn_hopt_lr_8.667e-05_optimizer_RMSprop_2020_2_13\",\n",
    "\"cloud_and_shadow_cnn_bn_hopt_lr_9.781e-05_optimizer_RMSprop_2020_2_13\",\n",
    "]"
   ]
  },
  {
   "cell_type": "code",
   "execution_count": 3,
   "metadata": {},
   "outputs": [],
   "source": [
    "experiments = [\n",
    "\"keras_cnn_bn_hopt_lr_0.00010297_optimizer_SGD_2020_2_14_metadata.json\",\n",
    "\"keras_cnn_bn_hopt_lr_0.0001118_optimizer_SGD_2020_2_14_metadata.json\",\n",
    "\"keras_cnn_bn_hopt_lr_0.00012048_optimizer_RMSprop_2020_2_14_metadata.json\",\n",
    "\"keras_cnn_bn_hopt_lr_0.00016145_optimizer_RMSprop_2020_2_14_metadata.json\",\n",
    "\"keras_cnn_bn_hopt_lr_0.00016852_optimizer_SGD_2020_2_14_metadata.json\",\n",
    "\"keras_cnn_bn_hopt_lr_0.00018246_optimizer_Adam_2020_2_14_metadata.json\",\n",
    "\"keras_cnn_bn_hopt_lr_0.00027695_optimizer_SGD_2020_2_14_metadata.json\",\n",
    "\"keras_cnn_bn_hopt_lr_0.00028531_optimizer_RMSprop_2020_2_14_metadata.json\",\n",
    "\"keras_cnn_bn_hopt_lr_0.00030841_optimizer_RMSprop_2020_2_14_metadata.json\",\n",
    "\"keras_cnn_bn_hopt_lr_0.00037691_optimizer_RMSprop_2020_2_14_metadata.json\",\n",
    "\"keras_cnn_bn_hopt_lr_0.00050827_optimizer_RMSprop_2020_2_14_metadata.json\",\n",
    "\"keras_cnn_bn_hopt_lr_0.00053454_optimizer_Adam_2020_2_14_metadata.json\",\n",
    "\"keras_cnn_bn_hopt_lr_0.00054753_optimizer_RMSprop_2020_2_14_metadata.json\",\n",
    "\"keras_cnn_bn_hopt_lr_0.00056998_optimizer_RMSprop_2020_2_14_metadata.json\",\n",
    "\"keras_cnn_bn_hopt_lr_0.00067198_optimizer_RMSprop_2020_2_14_metadata.json\",\n",
    "\"keras_cnn_bn_hopt_lr_0.00072196_optimizer_RMSprop_2020_2_14_metadata.json\",\n",
    "\"keras_cnn_bn_hopt_lr_0.00078287_optimizer_RMSprop_2020_2_14_metadata.json\",\n",
    "\"keras_cnn_bn_hopt_lr_0.00089769_optimizer_RMSprop_2020_2_14_metadata.json\",\n",
    "\"keras_cnn_bn_hopt_lr_0.00098156_optimizer_RMSprop_2020_2_14_metadata.json\",\n",
    "\"keras_cnn_bn_hopt_lr_0.00124899_optimizer_RMSprop_2020_2_14_metadata.json\",\n",
    "\"keras_cnn_bn_hopt_lr_0.00131306_optimizer_SGD_2020_2_14_metadata.json\",\n",
    "\"keras_cnn_bn_hopt_lr_0.0014796_optimizer_RMSprop_2020_2_14_metadata.json\",\n",
    "\"keras_cnn_bn_hopt_lr_0.00164205_optimizer_RMSprop_2020_2_14_metadata.json\",\n",
    "\"keras_cnn_bn_hopt_lr_0.00184748_optimizer_RMSprop_2020_2_14_metadata.json\",\n",
    "\"keras_cnn_bn_hopt_lr_0.00222851_optimizer_Adam_2020_2_14_metadata.json\",\n",
    "\"keras_cnn_bn_hopt_lr_0.00238071_optimizer_Adam_2020_2_14_metadata.json\",\n",
    "\"keras_cnn_bn_hopt_lr_0.00283816_optimizer_RMSprop_2020_2_14_metadata.json\",\n",
    "\"keras_cnn_bn_hopt_lr_0.00351931_optimizer_SGD_2020_2_14_metadata.json\",\n",
    "\"keras_cnn_bn_hopt_lr_0.00382567_optimizer_SGD_2020_2_14_metadata.json\",\n",
    "\"keras_cnn_bn_hopt_lr_0.00491674_optimizer_RMSprop_2020_2_14_metadata.json\",\n",
    "\"keras_cnn_bn_hopt_lr_0.00499853_optimizer_Adam_2020_2_14_metadata.json\",\n",
    "\"keras_cnn_bn_hopt_lr_0.00604878_optimizer_SGD_2020_2_14_metadata.json\",\n",
    "\"keras_cnn_bn_hopt_lr_0.00806118_optimizer_Adam_2020_2_14_metadata.json\",\n",
    "\"keras_cnn_bn_hopt_lr_0.00872263_optimizer_RMSprop_2020_2_14_metadata.json\",\n",
    "\"keras_cnn_bn_hopt_lr_0.00992734_optimizer_RMSprop_2020_2_14_metadata.json\",\n",
    "\"keras_cnn_bn_hopt_lr_1.79e-05_optimizer_Adam_2020_2_14_metadata.json\",\n",
    "\"keras_cnn_bn_hopt_lr_2.313e-05_optimizer_RMSprop_2020_2_14_metadata.json\",\n",
    "\"keras_cnn_bn_hopt_lr_2.693e-05_optimizer_RMSprop_2020_2_14_metadata.json\",\n",
    "\"keras_cnn_bn_hopt_lr_2e-06_optimizer_Adam_2020_2_14_metadata.json\",\n",
    "\"keras_cnn_bn_hopt_lr_3.05e-06_optimizer_Adam_2020_2_14_metadata.json\",\n",
    "\"keras_cnn_bn_hopt_lr_4.564e-05_optimizer_RMSprop_2020_2_14_metadata.json\",\n",
    "\"keras_cnn_bn_hopt_lr_5.896e-05_optimizer_RMSprop_2020_2_14_metadata.json\",\n",
    "\"keras_cnn_bn_hopt_lr_6.19e-06_optimizer_RMSprop_2020_2_14_metadata.json\",\n",
    "\"keras_cnn_bn_hopt_lr_6.768e-05_optimizer_SGD_2020_2_14_metadata.json\",\n",
    "\"keras_cnn_bn_hopt_lr_7.667e-05_optimizer_SGD_2020_2_14_metadata.json\",\n",
    "\"keras_cnn_bn_hopt_lr_8.53e-06_optimizer_Adam_2020_2_14_metadata.json\",    \n",
    "]"
   ]
  },
  {
   "cell_type": "code",
   "execution_count": 42,
   "metadata": {},
   "outputs": [],
   "source": [
    "experiment = \"cloud_and_shadow_keras_cnn_bn_hopt_lr_0.00222851_optimizer_Adam_2020_2_14_metadata.json\"\n",
    "local_filename = f'/tmp/{experiment}.json'\n",
    "blob = bucket.blob(f\"model/models/{experiment}\")\n",
    "blob.upload_from_filename(local_filename)"
   ]
  },
  {
   "cell_type": "code",
   "execution_count": 8,
   "metadata": {},
   "outputs": [],
   "source": [
    "len_one_keys = ['data', 'data_prep', 'experiment_name', 'experiment_start_time', 'model', 'random_state', 'epoch_with_best_model', 'epochs_trained', 'optimizer', 'n_epochs', 'early_stopping_patience', 'learning_rate', 'elapsed_train_time', 'accuracy_train', 'f1_score_train', 'train_loss', 'loss', 'accuracy_valid', 'f1_score_valid']\n",
    "long_keys = ['history', 'confusion_matrix', 'precision_recall_curve', 'y_actual_train', 'y_pred_train', 'y_pred_probs_train', 'y_actual_valid', 'y_pred_valid', 'y_pred_probs_valid']\n",
    "serializable_results_list = []\n",
    "\n",
    "for experiment in experiments:\n",
    "    experiment = f\"{project_name}_{experiment}\"\n",
    "    local_filename = f'/tmp/{experiment}.json'\n",
    "    blob = bucket.blob(f\"model/models/{experiment}\")\n",
    "    blob.download_to_filename(local_filename)\n",
    "\n",
    "    with open(local_filename) as fileobj:\n",
    "        results = json.load(fileobj)  \n",
    "\n",
    "    try:\n",
    "        serializable_results = {k: results[k] for k in len_one_keys}\n",
    "        for key in long_keys:\n",
    "            serializable_results[key] = json.dumps(results[key])\n",
    "        serializable_results_list.append(serializable_results)\n",
    "    except KeyError:\n",
    "        print('keyerror')\n",
    "        print(experiment)\n",
    "    \n",
    "df = pd.DataFrame(serializable_results_list, index=[num for num in range(len(serializable_results_list))])"
   ]
  },
  {
   "cell_type": "code",
   "execution_count": 26,
   "metadata": {
    "scrolled": true
   },
   "outputs": [
    {
     "data": {
      "text/html": [
       "<div>\n",
       "<style scoped>\n",
       "    .dataframe tbody tr th:only-of-type {\n",
       "        vertical-align: middle;\n",
       "    }\n",
       "\n",
       "    .dataframe tbody tr th {\n",
       "        vertical-align: top;\n",
       "    }\n",
       "\n",
       "    .dataframe thead th {\n",
       "        text-align: right;\n",
       "    }\n",
       "</style>\n",
       "<table border=\"1\" class=\"dataframe\">\n",
       "  <thead>\n",
       "    <tr style=\"text-align: right;\">\n",
       "      <th></th>\n",
       "      <th>experiment_name</th>\n",
       "      <th>optimizer</th>\n",
       "      <th>learning_rate</th>\n",
       "      <th>elapsed_train_time</th>\n",
       "      <th>n_epochs</th>\n",
       "      <th>accuracy_train</th>\n",
       "      <th>accuracy_valid</th>\n",
       "    </tr>\n",
       "  </thead>\n",
       "  <tbody>\n",
       "    <tr>\n",
       "      <th>24</th>\n",
       "      <td>cloud_and_shadow_keras_cnn_bn_hopt_lr_0.002228...</td>\n",
       "      <td>Adam</td>\n",
       "      <td>0.002229</td>\n",
       "      <td>492.635518</td>\n",
       "      <td>100</td>\n",
       "      <td>0.929208</td>\n",
       "      <td>0.944664</td>\n",
       "    </tr>\n",
       "    <tr>\n",
       "      <th>17</th>\n",
       "      <td>cloud_and_shadow_keras_cnn_bn_hopt_lr_0.000897...</td>\n",
       "      <td>RMSprop</td>\n",
       "      <td>0.000898</td>\n",
       "      <td>743.985975</td>\n",
       "      <td>100</td>\n",
       "      <td>0.937598</td>\n",
       "      <td>0.944664</td>\n",
       "    </tr>\n",
       "    <tr>\n",
       "      <th>19</th>\n",
       "      <td>cloud_and_shadow_keras_cnn_bn_hopt_lr_0.001248...</td>\n",
       "      <td>RMSprop</td>\n",
       "      <td>0.001249</td>\n",
       "      <td>517.621637</td>\n",
       "      <td>100</td>\n",
       "      <td>0.947037</td>\n",
       "      <td>0.940711</td>\n",
       "    </tr>\n",
       "    <tr>\n",
       "      <th>11</th>\n",
       "      <td>cloud_and_shadow_keras_cnn_bn_hopt_lr_0.000534...</td>\n",
       "      <td>Adam</td>\n",
       "      <td>0.000535</td>\n",
       "      <td>530.712421</td>\n",
       "      <td>100</td>\n",
       "      <td>0.938647</td>\n",
       "      <td>0.940711</td>\n",
       "    </tr>\n",
       "    <tr>\n",
       "      <th>13</th>\n",
       "      <td>cloud_and_shadow_keras_cnn_bn_hopt_lr_0.000569...</td>\n",
       "      <td>RMSprop</td>\n",
       "      <td>0.000570</td>\n",
       "      <td>442.761189</td>\n",
       "      <td>100</td>\n",
       "      <td>0.923440</td>\n",
       "      <td>0.936759</td>\n",
       "    </tr>\n",
       "    <tr>\n",
       "      <th>22</th>\n",
       "      <td>cloud_and_shadow_keras_cnn_bn_hopt_lr_0.001642...</td>\n",
       "      <td>RMSprop</td>\n",
       "      <td>0.001642</td>\n",
       "      <td>462.391976</td>\n",
       "      <td>100</td>\n",
       "      <td>0.910855</td>\n",
       "      <td>0.932806</td>\n",
       "    </tr>\n",
       "    <tr>\n",
       "      <th>12</th>\n",
       "      <td>cloud_and_shadow_keras_cnn_bn_hopt_lr_0.000547...</td>\n",
       "      <td>RMSprop</td>\n",
       "      <td>0.000548</td>\n",
       "      <td>645.736338</td>\n",
       "      <td>100</td>\n",
       "      <td>0.949659</td>\n",
       "      <td>0.932806</td>\n",
       "    </tr>\n",
       "    <tr>\n",
       "      <th>18</th>\n",
       "      <td>cloud_and_shadow_keras_cnn_bn_hopt_lr_0.000981...</td>\n",
       "      <td>RMSprop</td>\n",
       "      <td>0.000982</td>\n",
       "      <td>449.507525</td>\n",
       "      <td>100</td>\n",
       "      <td>0.928159</td>\n",
       "      <td>0.932806</td>\n",
       "    </tr>\n",
       "    <tr>\n",
       "      <th>16</th>\n",
       "      <td>cloud_and_shadow_keras_cnn_bn_hopt_lr_0.000782...</td>\n",
       "      <td>RMSprop</td>\n",
       "      <td>0.000783</td>\n",
       "      <td>522.062560</td>\n",
       "      <td>100</td>\n",
       "      <td>0.941793</td>\n",
       "      <td>0.928854</td>\n",
       "    </tr>\n",
       "    <tr>\n",
       "      <th>9</th>\n",
       "      <td>cloud_and_shadow_keras_cnn_bn_hopt_lr_0.000376...</td>\n",
       "      <td>RMSprop</td>\n",
       "      <td>0.000377</td>\n",
       "      <td>390.634282</td>\n",
       "      <td>100</td>\n",
       "      <td>0.917147</td>\n",
       "      <td>0.928854</td>\n",
       "    </tr>\n",
       "    <tr>\n",
       "      <th>25</th>\n",
       "      <td>cloud_and_shadow_keras_cnn_bn_hopt_lr_0.002380...</td>\n",
       "      <td>Adam</td>\n",
       "      <td>0.002381</td>\n",
       "      <td>615.132032</td>\n",
       "      <td>100</td>\n",
       "      <td>0.908233</td>\n",
       "      <td>0.928854</td>\n",
       "    </tr>\n",
       "    <tr>\n",
       "      <th>29</th>\n",
       "      <td>cloud_and_shadow_keras_cnn_bn_hopt_lr_0.004916...</td>\n",
       "      <td>RMSprop</td>\n",
       "      <td>0.004917</td>\n",
       "      <td>532.360051</td>\n",
       "      <td>100</td>\n",
       "      <td>0.911904</td>\n",
       "      <td>0.928854</td>\n",
       "    </tr>\n",
       "    <tr>\n",
       "      <th>23</th>\n",
       "      <td>cloud_and_shadow_keras_cnn_bn_hopt_lr_0.001847...</td>\n",
       "      <td>RMSprop</td>\n",
       "      <td>0.001847</td>\n",
       "      <td>480.613298</td>\n",
       "      <td>100</td>\n",
       "      <td>0.932354</td>\n",
       "      <td>0.928854</td>\n",
       "    </tr>\n",
       "    <tr>\n",
       "      <th>26</th>\n",
       "      <td>cloud_and_shadow_keras_cnn_bn_hopt_lr_0.002838...</td>\n",
       "      <td>RMSprop</td>\n",
       "      <td>0.002838</td>\n",
       "      <td>434.309052</td>\n",
       "      <td>100</td>\n",
       "      <td>0.894599</td>\n",
       "      <td>0.920949</td>\n",
       "    </tr>\n",
       "    <tr>\n",
       "      <th>30</th>\n",
       "      <td>cloud_and_shadow_keras_cnn_bn_hopt_lr_0.004998...</td>\n",
       "      <td>Adam</td>\n",
       "      <td>0.004999</td>\n",
       "      <td>486.996847</td>\n",
       "      <td>100</td>\n",
       "      <td>0.896696</td>\n",
       "      <td>0.920949</td>\n",
       "    </tr>\n",
       "    <tr>\n",
       "      <th>33</th>\n",
       "      <td>cloud_and_shadow_keras_cnn_bn_hopt_lr_0.008722...</td>\n",
       "      <td>RMSprop</td>\n",
       "      <td>0.008723</td>\n",
       "      <td>462.262340</td>\n",
       "      <td>100</td>\n",
       "      <td>0.900891</td>\n",
       "      <td>0.920949</td>\n",
       "    </tr>\n",
       "    <tr>\n",
       "      <th>7</th>\n",
       "      <td>cloud_and_shadow_keras_cnn_bn_hopt_lr_0.000285...</td>\n",
       "      <td>RMSprop</td>\n",
       "      <td>0.000285</td>\n",
       "      <td>456.674814</td>\n",
       "      <td>100</td>\n",
       "      <td>0.951757</td>\n",
       "      <td>0.916996</td>\n",
       "    </tr>\n",
       "    <tr>\n",
       "      <th>5</th>\n",
       "      <td>cloud_and_shadow_keras_cnn_bn_hopt_lr_0.000182...</td>\n",
       "      <td>Adam</td>\n",
       "      <td>0.000182</td>\n",
       "      <td>677.257544</td>\n",
       "      <td>100</td>\n",
       "      <td>0.968537</td>\n",
       "      <td>0.913043</td>\n",
       "    </tr>\n",
       "    <tr>\n",
       "      <th>27</th>\n",
       "      <td>cloud_and_shadow_keras_cnn_bn_hopt_lr_0.003519...</td>\n",
       "      <td>SGD</td>\n",
       "      <td>0.003519</td>\n",
       "      <td>693.990059</td>\n",
       "      <td>100</td>\n",
       "      <td>0.928684</td>\n",
       "      <td>0.913043</td>\n",
       "    </tr>\n",
       "    <tr>\n",
       "      <th>3</th>\n",
       "      <td>cloud_and_shadow_keras_cnn_bn_hopt_lr_0.000161...</td>\n",
       "      <td>RMSprop</td>\n",
       "      <td>0.000161</td>\n",
       "      <td>565.491861</td>\n",
       "      <td>100</td>\n",
       "      <td>0.949135</td>\n",
       "      <td>0.909091</td>\n",
       "    </tr>\n",
       "    <tr>\n",
       "      <th>40</th>\n",
       "      <td>cloud_and_shadow_keras_cnn_bn_hopt_lr_4.564e-0...</td>\n",
       "      <td>RMSprop</td>\n",
       "      <td>0.000046</td>\n",
       "      <td>661.491499</td>\n",
       "      <td>100</td>\n",
       "      <td>0.953330</td>\n",
       "      <td>0.909091</td>\n",
       "    </tr>\n",
       "    <tr>\n",
       "      <th>34</th>\n",
       "      <td>cloud_and_shadow_keras_cnn_bn_hopt_lr_0.009927...</td>\n",
       "      <td>RMSprop</td>\n",
       "      <td>0.009927</td>\n",
       "      <td>465.635114</td>\n",
       "      <td>100</td>\n",
       "      <td>0.884636</td>\n",
       "      <td>0.909091</td>\n",
       "    </tr>\n",
       "    <tr>\n",
       "      <th>14</th>\n",
       "      <td>cloud_and_shadow_keras_cnn_bn_hopt_lr_0.000671...</td>\n",
       "      <td>RMSprop</td>\n",
       "      <td>0.000672</td>\n",
       "      <td>332.673154</td>\n",
       "      <td>100</td>\n",
       "      <td>0.894074</td>\n",
       "      <td>0.909091</td>\n",
       "    </tr>\n",
       "    <tr>\n",
       "      <th>15</th>\n",
       "      <td>cloud_and_shadow_keras_cnn_bn_hopt_lr_0.000721...</td>\n",
       "      <td>RMSprop</td>\n",
       "      <td>0.000722</td>\n",
       "      <td>365.702121</td>\n",
       "      <td>100</td>\n",
       "      <td>0.919245</td>\n",
       "      <td>0.909091</td>\n",
       "    </tr>\n",
       "    <tr>\n",
       "      <th>8</th>\n",
       "      <td>cloud_and_shadow_keras_cnn_bn_hopt_lr_0.000308...</td>\n",
       "      <td>RMSprop</td>\n",
       "      <td>0.000308</td>\n",
       "      <td>422.553951</td>\n",
       "      <td>100</td>\n",
       "      <td>0.942842</td>\n",
       "      <td>0.909091</td>\n",
       "    </tr>\n",
       "    <tr>\n",
       "      <th>21</th>\n",
       "      <td>cloud_and_shadow_keras_cnn_bn_hopt_lr_0.001479...</td>\n",
       "      <td>RMSprop</td>\n",
       "      <td>0.001480</td>\n",
       "      <td>366.115585</td>\n",
       "      <td>100</td>\n",
       "      <td>0.905087</td>\n",
       "      <td>0.905138</td>\n",
       "    </tr>\n",
       "    <tr>\n",
       "      <th>2</th>\n",
       "      <td>cloud_and_shadow_keras_cnn_bn_hopt_lr_0.000120...</td>\n",
       "      <td>RMSprop</td>\n",
       "      <td>0.000120</td>\n",
       "      <td>395.935176</td>\n",
       "      <td>100</td>\n",
       "      <td>0.915050</td>\n",
       "      <td>0.905138</td>\n",
       "    </tr>\n",
       "    <tr>\n",
       "      <th>32</th>\n",
       "      <td>cloud_and_shadow_keras_cnn_bn_hopt_lr_0.008061...</td>\n",
       "      <td>Adam</td>\n",
       "      <td>0.008061</td>\n",
       "      <td>432.863829</td>\n",
       "      <td>100</td>\n",
       "      <td>0.883587</td>\n",
       "      <td>0.905138</td>\n",
       "    </tr>\n",
       "    <tr>\n",
       "      <th>41</th>\n",
       "      <td>cloud_and_shadow_keras_cnn_bn_hopt_lr_5.896e-0...</td>\n",
       "      <td>RMSprop</td>\n",
       "      <td>0.000059</td>\n",
       "      <td>414.956487</td>\n",
       "      <td>100</td>\n",
       "      <td>0.944940</td>\n",
       "      <td>0.897233</td>\n",
       "    </tr>\n",
       "    <tr>\n",
       "      <th>31</th>\n",
       "      <td>cloud_and_shadow_keras_cnn_bn_hopt_lr_0.006048...</td>\n",
       "      <td>SGD</td>\n",
       "      <td>0.006049</td>\n",
       "      <td>550.334736</td>\n",
       "      <td>100</td>\n",
       "      <td>0.939696</td>\n",
       "      <td>0.897233</td>\n",
       "    </tr>\n",
       "    <tr>\n",
       "      <th>36</th>\n",
       "      <td>cloud_and_shadow_keras_cnn_bn_hopt_lr_2.313e-0...</td>\n",
       "      <td>RMSprop</td>\n",
       "      <td>0.000023</td>\n",
       "      <td>458.616497</td>\n",
       "      <td>100</td>\n",
       "      <td>0.928159</td>\n",
       "      <td>0.893281</td>\n",
       "    </tr>\n",
       "    <tr>\n",
       "      <th>37</th>\n",
       "      <td>cloud_and_shadow_keras_cnn_bn_hopt_lr_2.693e-0...</td>\n",
       "      <td>RMSprop</td>\n",
       "      <td>0.000027</td>\n",
       "      <td>512.189291</td>\n",
       "      <td>100</td>\n",
       "      <td>0.921867</td>\n",
       "      <td>0.889328</td>\n",
       "    </tr>\n",
       "    <tr>\n",
       "      <th>28</th>\n",
       "      <td>cloud_and_shadow_keras_cnn_bn_hopt_lr_0.003825...</td>\n",
       "      <td>SGD</td>\n",
       "      <td>0.003826</td>\n",
       "      <td>334.222753</td>\n",
       "      <td>100</td>\n",
       "      <td>0.904562</td>\n",
       "      <td>0.889328</td>\n",
       "    </tr>\n",
       "    <tr>\n",
       "      <th>35</th>\n",
       "      <td>cloud_and_shadow_keras_cnn_bn_hopt_lr_1.79e-05...</td>\n",
       "      <td>Adam</td>\n",
       "      <td>0.000018</td>\n",
       "      <td>736.143425</td>\n",
       "      <td>100</td>\n",
       "      <td>0.936550</td>\n",
       "      <td>0.889328</td>\n",
       "    </tr>\n",
       "    <tr>\n",
       "      <th>20</th>\n",
       "      <td>cloud_and_shadow_keras_cnn_bn_hopt_lr_0.001313...</td>\n",
       "      <td>SGD</td>\n",
       "      <td>0.001313</td>\n",
       "      <td>624.755797</td>\n",
       "      <td>100</td>\n",
       "      <td>0.917147</td>\n",
       "      <td>0.873518</td>\n",
       "    </tr>\n",
       "    <tr>\n",
       "      <th>39</th>\n",
       "      <td>cloud_and_shadow_keras_cnn_bn_hopt_lr_3.05e-06...</td>\n",
       "      <td>Adam</td>\n",
       "      <td>0.000003</td>\n",
       "      <td>687.799080</td>\n",
       "      <td>100</td>\n",
       "      <td>0.895648</td>\n",
       "      <td>0.861660</td>\n",
       "    </tr>\n",
       "    <tr>\n",
       "      <th>42</th>\n",
       "      <td>cloud_and_shadow_keras_cnn_bn_hopt_lr_6.19e-06...</td>\n",
       "      <td>RMSprop</td>\n",
       "      <td>0.000006</td>\n",
       "      <td>404.616009</td>\n",
       "      <td>100</td>\n",
       "      <td>0.896696</td>\n",
       "      <td>0.849802</td>\n",
       "    </tr>\n",
       "    <tr>\n",
       "      <th>4</th>\n",
       "      <td>cloud_and_shadow_keras_cnn_bn_hopt_lr_0.000168...</td>\n",
       "      <td>SGD</td>\n",
       "      <td>0.000169</td>\n",
       "      <td>422.824445</td>\n",
       "      <td>100</td>\n",
       "      <td>0.813319</td>\n",
       "      <td>0.822134</td>\n",
       "    </tr>\n",
       "    <tr>\n",
       "      <th>38</th>\n",
       "      <td>cloud_and_shadow_keras_cnn_bn_hopt_lr_2e-06_op...</td>\n",
       "      <td>Adam</td>\n",
       "      <td>0.000002</td>\n",
       "      <td>693.122158</td>\n",
       "      <td>100</td>\n",
       "      <td>0.872050</td>\n",
       "      <td>0.810277</td>\n",
       "    </tr>\n",
       "    <tr>\n",
       "      <th>6</th>\n",
       "      <td>cloud_and_shadow_keras_cnn_bn_hopt_lr_0.000276...</td>\n",
       "      <td>SGD</td>\n",
       "      <td>0.000277</td>\n",
       "      <td>516.048902</td>\n",
       "      <td>100</td>\n",
       "      <td>0.856843</td>\n",
       "      <td>0.802372</td>\n",
       "    </tr>\n",
       "    <tr>\n",
       "      <th>44</th>\n",
       "      <td>cloud_and_shadow_keras_cnn_bn_hopt_lr_7.667e-0...</td>\n",
       "      <td>SGD</td>\n",
       "      <td>0.000077</td>\n",
       "      <td>736.231299</td>\n",
       "      <td>100</td>\n",
       "      <td>0.825905</td>\n",
       "      <td>0.798419</td>\n",
       "    </tr>\n",
       "    <tr>\n",
       "      <th>1</th>\n",
       "      <td>cloud_and_shadow_keras_cnn_bn_hopt_lr_0.000111...</td>\n",
       "      <td>SGD</td>\n",
       "      <td>0.000112</td>\n",
       "      <td>757.487396</td>\n",
       "      <td>100</td>\n",
       "      <td>0.839539</td>\n",
       "      <td>0.794466</td>\n",
       "    </tr>\n",
       "    <tr>\n",
       "      <th>43</th>\n",
       "      <td>cloud_and_shadow_keras_cnn_bn_hopt_lr_6.768e-0...</td>\n",
       "      <td>SGD</td>\n",
       "      <td>0.000068</td>\n",
       "      <td>744.928926</td>\n",
       "      <td>100</td>\n",
       "      <td>0.835868</td>\n",
       "      <td>0.786561</td>\n",
       "    </tr>\n",
       "  </tbody>\n",
       "</table>\n",
       "</div>"
      ],
      "text/plain": [
       "                                      experiment_name optimizer  \\\n",
       "24  cloud_and_shadow_keras_cnn_bn_hopt_lr_0.002228...      Adam   \n",
       "17  cloud_and_shadow_keras_cnn_bn_hopt_lr_0.000897...   RMSprop   \n",
       "19  cloud_and_shadow_keras_cnn_bn_hopt_lr_0.001248...   RMSprop   \n",
       "11  cloud_and_shadow_keras_cnn_bn_hopt_lr_0.000534...      Adam   \n",
       "13  cloud_and_shadow_keras_cnn_bn_hopt_lr_0.000569...   RMSprop   \n",
       "22  cloud_and_shadow_keras_cnn_bn_hopt_lr_0.001642...   RMSprop   \n",
       "12  cloud_and_shadow_keras_cnn_bn_hopt_lr_0.000547...   RMSprop   \n",
       "18  cloud_and_shadow_keras_cnn_bn_hopt_lr_0.000981...   RMSprop   \n",
       "16  cloud_and_shadow_keras_cnn_bn_hopt_lr_0.000782...   RMSprop   \n",
       "9   cloud_and_shadow_keras_cnn_bn_hopt_lr_0.000376...   RMSprop   \n",
       "25  cloud_and_shadow_keras_cnn_bn_hopt_lr_0.002380...      Adam   \n",
       "29  cloud_and_shadow_keras_cnn_bn_hopt_lr_0.004916...   RMSprop   \n",
       "23  cloud_and_shadow_keras_cnn_bn_hopt_lr_0.001847...   RMSprop   \n",
       "26  cloud_and_shadow_keras_cnn_bn_hopt_lr_0.002838...   RMSprop   \n",
       "30  cloud_and_shadow_keras_cnn_bn_hopt_lr_0.004998...      Adam   \n",
       "33  cloud_and_shadow_keras_cnn_bn_hopt_lr_0.008722...   RMSprop   \n",
       "7   cloud_and_shadow_keras_cnn_bn_hopt_lr_0.000285...   RMSprop   \n",
       "5   cloud_and_shadow_keras_cnn_bn_hopt_lr_0.000182...      Adam   \n",
       "27  cloud_and_shadow_keras_cnn_bn_hopt_lr_0.003519...       SGD   \n",
       "3   cloud_and_shadow_keras_cnn_bn_hopt_lr_0.000161...   RMSprop   \n",
       "40  cloud_and_shadow_keras_cnn_bn_hopt_lr_4.564e-0...   RMSprop   \n",
       "34  cloud_and_shadow_keras_cnn_bn_hopt_lr_0.009927...   RMSprop   \n",
       "14  cloud_and_shadow_keras_cnn_bn_hopt_lr_0.000671...   RMSprop   \n",
       "15  cloud_and_shadow_keras_cnn_bn_hopt_lr_0.000721...   RMSprop   \n",
       "8   cloud_and_shadow_keras_cnn_bn_hopt_lr_0.000308...   RMSprop   \n",
       "21  cloud_and_shadow_keras_cnn_bn_hopt_lr_0.001479...   RMSprop   \n",
       "2   cloud_and_shadow_keras_cnn_bn_hopt_lr_0.000120...   RMSprop   \n",
       "32  cloud_and_shadow_keras_cnn_bn_hopt_lr_0.008061...      Adam   \n",
       "41  cloud_and_shadow_keras_cnn_bn_hopt_lr_5.896e-0...   RMSprop   \n",
       "31  cloud_and_shadow_keras_cnn_bn_hopt_lr_0.006048...       SGD   \n",
       "36  cloud_and_shadow_keras_cnn_bn_hopt_lr_2.313e-0...   RMSprop   \n",
       "37  cloud_and_shadow_keras_cnn_bn_hopt_lr_2.693e-0...   RMSprop   \n",
       "28  cloud_and_shadow_keras_cnn_bn_hopt_lr_0.003825...       SGD   \n",
       "35  cloud_and_shadow_keras_cnn_bn_hopt_lr_1.79e-05...      Adam   \n",
       "20  cloud_and_shadow_keras_cnn_bn_hopt_lr_0.001313...       SGD   \n",
       "39  cloud_and_shadow_keras_cnn_bn_hopt_lr_3.05e-06...      Adam   \n",
       "42  cloud_and_shadow_keras_cnn_bn_hopt_lr_6.19e-06...   RMSprop   \n",
       "4   cloud_and_shadow_keras_cnn_bn_hopt_lr_0.000168...       SGD   \n",
       "38  cloud_and_shadow_keras_cnn_bn_hopt_lr_2e-06_op...      Adam   \n",
       "6   cloud_and_shadow_keras_cnn_bn_hopt_lr_0.000276...       SGD   \n",
       "44  cloud_and_shadow_keras_cnn_bn_hopt_lr_7.667e-0...       SGD   \n",
       "1   cloud_and_shadow_keras_cnn_bn_hopt_lr_0.000111...       SGD   \n",
       "43  cloud_and_shadow_keras_cnn_bn_hopt_lr_6.768e-0...       SGD   \n",
       "\n",
       "    learning_rate  elapsed_train_time  n_epochs  accuracy_train  \\\n",
       "24       0.002229          492.635518       100        0.929208   \n",
       "17       0.000898          743.985975       100        0.937598   \n",
       "19       0.001249          517.621637       100        0.947037   \n",
       "11       0.000535          530.712421       100        0.938647   \n",
       "13       0.000570          442.761189       100        0.923440   \n",
       "22       0.001642          462.391976       100        0.910855   \n",
       "12       0.000548          645.736338       100        0.949659   \n",
       "18       0.000982          449.507525       100        0.928159   \n",
       "16       0.000783          522.062560       100        0.941793   \n",
       "9        0.000377          390.634282       100        0.917147   \n",
       "25       0.002381          615.132032       100        0.908233   \n",
       "29       0.004917          532.360051       100        0.911904   \n",
       "23       0.001847          480.613298       100        0.932354   \n",
       "26       0.002838          434.309052       100        0.894599   \n",
       "30       0.004999          486.996847       100        0.896696   \n",
       "33       0.008723          462.262340       100        0.900891   \n",
       "7        0.000285          456.674814       100        0.951757   \n",
       "5        0.000182          677.257544       100        0.968537   \n",
       "27       0.003519          693.990059       100        0.928684   \n",
       "3        0.000161          565.491861       100        0.949135   \n",
       "40       0.000046          661.491499       100        0.953330   \n",
       "34       0.009927          465.635114       100        0.884636   \n",
       "14       0.000672          332.673154       100        0.894074   \n",
       "15       0.000722          365.702121       100        0.919245   \n",
       "8        0.000308          422.553951       100        0.942842   \n",
       "21       0.001480          366.115585       100        0.905087   \n",
       "2        0.000120          395.935176       100        0.915050   \n",
       "32       0.008061          432.863829       100        0.883587   \n",
       "41       0.000059          414.956487       100        0.944940   \n",
       "31       0.006049          550.334736       100        0.939696   \n",
       "36       0.000023          458.616497       100        0.928159   \n",
       "37       0.000027          512.189291       100        0.921867   \n",
       "28       0.003826          334.222753       100        0.904562   \n",
       "35       0.000018          736.143425       100        0.936550   \n",
       "20       0.001313          624.755797       100        0.917147   \n",
       "39       0.000003          687.799080       100        0.895648   \n",
       "42       0.000006          404.616009       100        0.896696   \n",
       "4        0.000169          422.824445       100        0.813319   \n",
       "38       0.000002          693.122158       100        0.872050   \n",
       "6        0.000277          516.048902       100        0.856843   \n",
       "44       0.000077          736.231299       100        0.825905   \n",
       "1        0.000112          757.487396       100        0.839539   \n",
       "43       0.000068          744.928926       100        0.835868   \n",
       "\n",
       "    accuracy_valid  \n",
       "24        0.944664  \n",
       "17        0.944664  \n",
       "19        0.940711  \n",
       "11        0.940711  \n",
       "13        0.936759  \n",
       "22        0.932806  \n",
       "12        0.932806  \n",
       "18        0.932806  \n",
       "16        0.928854  \n",
       "9         0.928854  \n",
       "25        0.928854  \n",
       "29        0.928854  \n",
       "23        0.928854  \n",
       "26        0.920949  \n",
       "30        0.920949  \n",
       "33        0.920949  \n",
       "7         0.916996  \n",
       "5         0.913043  \n",
       "27        0.913043  \n",
       "3         0.909091  \n",
       "40        0.909091  \n",
       "34        0.909091  \n",
       "14        0.909091  \n",
       "15        0.909091  \n",
       "8         0.909091  \n",
       "21        0.905138  \n",
       "2         0.905138  \n",
       "32        0.905138  \n",
       "41        0.897233  \n",
       "31        0.897233  \n",
       "36        0.893281  \n",
       "37        0.889328  \n",
       "28        0.889328  \n",
       "35        0.889328  \n",
       "20        0.873518  \n",
       "39        0.861660  \n",
       "42        0.849802  \n",
       "4         0.822134  \n",
       "38        0.810277  \n",
       "6         0.802372  \n",
       "44        0.798419  \n",
       "1         0.794466  \n",
       "43        0.786561  "
      ]
     },
     "execution_count": 26,
     "metadata": {},
     "output_type": "execute_result"
    }
   ],
   "source": [
    "df = df[(df['n_epochs'] > 2) & (df['accuracy_valid'] > .77)]\n",
    "d = df[['experiment_name', 'optimizer', 'learning_rate', 'elapsed_train_time', 'n_epochs', 'accuracy_train', 'accuracy_valid']].sort_values(\n",
    "    by='accuracy_valid', ascending=False)\n",
    "d"
   ]
  },
  {
   "cell_type": "code",
   "execution_count": 30,
   "metadata": {},
   "outputs": [
    {
     "name": "stdout",
     "output_type": "stream",
     "text": [
      "cloud_and_shadow_keras_cnn_bn_hopt_lr_0.00222851_optimizer_Adam_2020_2_14\n"
     ]
    },
    {
     "data": {
      "image/png": "[encoded data removed]",
      "text/plain": [
       "<Figure size 864x288 with 2 Axes>"
      ]
     },
     "metadata": {
      "needs_background": "light"
     },
     "output_type": "display_data"
    }
   ],
   "source": [
    "best_experiment_name = d.iloc[0]['experiment_name']\n",
    "print(best_experiment_name)\n",
    "best_experiment_result = df[df['experiment_name'] == best_experiment_name]\n",
    "best_experiment_history = json.loads(best_experiment_result['history'].values[0])\n",
    "graph_model_history(best_experiment_history, best_experiment_name)"
   ]
  },
  {
   "cell_type": "code",
   "execution_count": 28,
   "metadata": {},
   "outputs": [
    {
     "data": {
      "text/plain": [
       "array([[<matplotlib.axes._subplots.AxesSubplot object at 0x7f3537bc4e48>]],\n",
       "      dtype=object)"
      ]
     },
     "execution_count": 28,
     "metadata": {},
     "output_type": "execute_result"
    },
    {
     "data": {
      "image/png": "[encoded data removed]",
      "text/plain": [
       "<Figure size 432x288 with 1 Axes>"
      ]
     },
     "metadata": {
      "needs_background": "light"
     },
     "output_type": "display_data"
    }
   ],
   "source": [
    "best_experiment_preds = json.loads(best_experiment_result['y_pred_probs_valid'].values[0])\n",
    "pd.DataFrame(best_experiment_preds).hist()"
   ]
  },
  {
   "cell_type": "code",
   "execution_count": 31,
   "metadata": {},
   "outputs": [
    {
     "name": "stdout",
     "output_type": "stream",
     "text": [
      "Downloading model blob.\n"
     ]
    }
   ],
   "source": [
    "model, model_base_metadata = get_model_and_metadata_from_gcs(bucket, model_dir, \"h5\", load_model, gcs_model_dir,\n",
    "                                                             best_experiment_name)"
   ]
  },
  {
   "cell_type": "code",
   "execution_count": 32,
   "metadata": {},
   "outputs": [
    {
     "name": "stdout",
     "output_type": "stream",
     "text": [
      "binary_crossentropy - cnn with regularization and augmentation 0.2404575\n",
      "accuracy 0.9051383399209486\n"
     ]
    },
    {
     "data": {
      "text/plain": [
       "array([[<matplotlib.axes._subplots.AxesSubplot object at 0x7f8a7e92c048>]],\n",
       "      dtype=object)"
      ]
     },
     "execution_count": 32,
     "metadata": {},
     "output_type": "execute_result"
    },
    {
     "data": {
      "image/png": "[encoded data removed]",
      "text/plain": [
       "<Figure size 432x288 with 1 Axes>"
      ]
     },
     "metadata": {
      "needs_background": "light"
     },
     "output_type": "display_data"
    }
   ],
   "source": [
    "valid_generator = get_image_dataset(x=x_valid, y=y_valid, augmentations=None, image_processor=None,\n",
    "                                    band_stats=band_stats, batch_size=batch_size)\n",
    "y_actual_valid, y_pred_valid, y_pred_probs_valid = get_predictions_for_dataset(valid_generator, model) \n",
    "\n",
    "print('binary_crossentropy - cnn with regularization and augmentation', \n",
    "      binary_crossentropy(y_actual_valid, y_pred_probs_valid).numpy())\n",
    "print('accuracy', accuracy_score(y_actual_valid, y_pred_valid))\n",
    "\n",
    "pd.DataFrame({'cloud_predicted_probability': y_pred_probs_valid}).hist()"
   ]
  },
  {
   "cell_type": "code",
   "execution_count": 32,
   "metadata": {},
   "outputs": [
    {
     "name": "stdout",
     "output_type": "stream",
     "text": [
      "WARNING:tensorflow:From /app/data_science/keras/dataset.py:46: DatasetV1.make_one_shot_iterator (from tensorflow.python.data.ops.dataset_ops) is deprecated and will be removed in a future version.\n",
      "Instructions for updating:\n",
      "Use `for ... in dataset:` to iterate over a dataset. If using `tf.estimator`, return the `Dataset` object directly from your input function. As a last resort, you can use `tf.compat.v1.data.make_one_shot_iterator(dataset)`.\n",
      "binary_crossentropy - cnn with regularization and augmentation 0.29700896\n",
      "accuracy 0.8916666666666667\n"
     ]
    },
    {
     "data": {
      "text/plain": [
       "array([[<matplotlib.axes._subplots.AxesSubplot object at 0x7f353cabd630>]],\n",
       "      dtype=object)"
      ]
     },
     "execution_count": 32,
     "metadata": {},
     "output_type": "execute_result"
    },
    {
     "data": {
      "image/png": "[encoded data removed]",
      "text/plain": [
       "<Figure size 432x288 with 1 Axes>"
      ]
     },
     "metadata": {
      "needs_background": "light"
     },
     "output_type": "display_data"
    }
   ],
   "source": [
    "test_generator = get_image_dataset(x=x_test, y=y_test, augmentations=None, image_processor=None,\n",
    "                                    band_stats=band_stats, batch_size=batch_size)\n",
    "y_actual_test, y_pred_test, y_pred_probs_test = get_predictions_for_dataset(test_generator, model) \n",
    "\n",
    "print('binary_crossentropy - cnn with regularization and augmentation', \n",
    "      binary_crossentropy(y_actual_test, y_pred_probs_test).numpy())\n",
    "print('accuracy', accuracy_score(y_actual_test, y_pred_test))\n",
    "\n",
    "pd.DataFrame({'cloud_predicted_probability': y_pred_probs_test}).hist()"
   ]
  },
  {
   "cell_type": "code",
   "execution_count": 35,
   "metadata": {},
   "outputs": [],
   "source": [
    "precision, recall, thresholds = precision_recall_curve(y_actual_test, y_pred_probs_test)\n",
    "\n",
    "precision = precision[:-1]\n",
    "recall = recall[:-1]\n",
    "df = pd.concat([\n",
    "    pd.DataFrame({'stat_name': ['precision' for _ in range(len(precision))],\n",
    "                  'stat_value': precision,\n",
    "                  'threshold': thresholds}),\n",
    "    pd.DataFrame({'stat_name': ['recall' for _ in range(len(precision))],\n",
    "                  'stat_value': recall,\n",
    "                  'threshold': thresholds})    \n",
    "])\n",
    "ax = sns.lineplot(y=df['stat_value'], x=df['threshold'], hue=df['stat_name'], \n",
    "                  palette={'precision': 'red', 'recall': 'blue'})\n",
    "ax.set_title('Precision/Recall per Threshold')\n",
    "# ax.fill_between(recall,precision, color=\"darkblue\", alpha=0.3)"
   ]
  },
  {
   "cell_type": "code",
   "execution_count": 33,
   "metadata": {},
   "outputs": [
    {
     "data": {
      "text/plain": [
       "0.9552918458324685"
      ]
     },
     "execution_count": 33,
     "metadata": {},
     "output_type": "execute_result"
    }
   ],
   "source": [
    "average_precision_score(y_actual_test, y_pred_probs_test)"
   ]
  },
  {
   "cell_type": "code",
   "execution_count": 6,
   "metadata": {},
   "outputs": [
    {
     "data": {
      "image/png": "[encoded data removed]",
      "text/plain": [
       "<Figure size 864x288 with 2 Axes>"
      ]
     },
     "metadata": {
      "needs_background": "light"
     },
     "output_type": "display_data"
    }
   ],
   "source": [
    "second_best_experiment_name = d.iloc[1]['experiment_name']\n",
    "best_experiment_history = json.loads(df[df['experiment_name'] == second_best_experiment_name]['history'].values[0])\n",
    "graph_model_history(best_experiment_history, second_best_experiment_name)"
   ]
  },
  {
   "cell_type": "code",
   "execution_count": null,
   "metadata": {
    "scrolled": true
   },
   "outputs": [],
   "source": [
    "rms_model, rms_model_base_metadata = get_model_and_metadata_from_gcs(bucket, model_dir, \"h5\", load_model, gcs_model_dir,\n",
    "                                                             second_best_experiment_name)"
   ]
  },
  {
   "cell_type": "code",
   "execution_count": 9,
   "metadata": {},
   "outputs": [
    {
     "name": "stdout",
     "output_type": "stream",
     "text": [
      "WARNING:tensorflow:From /app/data_science/keras/dataset.py:46: DatasetV1.make_one_shot_iterator (from tensorflow.python.data.ops.dataset_ops) is deprecated and will be removed in a future version.\n",
      "Instructions for updating:\n",
      "Use `for ... in dataset:` to iterate over a dataset. If using `tf.estimator`, return the `Dataset` object directly from your input function. As a last resort, you can use `tf.compat.v1.data.make_one_shot_iterator(dataset)`.\n",
      "binary_crossentropy - cnn with regularization and augmentation 0.2865209\n",
      "accuracy 0.8791666666666667\n",
      "average_precision_score 0.9608923169575532\n"
     ]
    },
    {
     "data": {
      "text/plain": [
       "array([[<matplotlib.axes._subplots.AxesSubplot object at 0x7fb94b8ba390>]],\n",
       "      dtype=object)"
      ]
     },
     "execution_count": 9,
     "metadata": {},
     "output_type": "execute_result"
    },
    {
     "data": {
      "image/png": "[encoded data removed]",
      "text/plain": [
       "<Figure size 432x288 with 1 Axes>"
      ]
     },
     "metadata": {
      "needs_background": "light"
     },
     "output_type": "display_data"
    }
   ],
   "source": [
    "test_generator = get_image_dataset(x=x_test, y=y_test, augmentations=None, image_processor=None,\n",
    "                                    band_stats=band_stats, batch_size=batch_size)\n",
    "y_actual_test, y_pred_test, y_pred_probs_test = get_predictions_for_dataset(test_generator, rms_model) \n",
    "\n",
    "print('binary_crossentropy - cnn with regularization and augmentation', \n",
    "      binary_crossentropy(y_actual_test, y_pred_probs_test).numpy())\n",
    "print('accuracy', accuracy_score(y_actual_test, y_pred_test))\n",
    "print('average_precision_score', average_precision_score(y_actual_test, y_pred_probs_test))\n",
    "\n",
    "pd.DataFrame({'cloud_predicted_probability': y_pred_probs_test}).hist()"
   ]
  },
  {
   "cell_type": "code",
   "execution_count": 25,
   "metadata": {},
   "outputs": [
    {
     "data": {
      "text/plain": [
       "<matplotlib.legend.Legend at 0x7f352da29630>"
      ]
     },
     "execution_count": 25,
     "metadata": {},
     "output_type": "execute_result"
    },
    {
     "data": {
      "image/png": "[encoded data removed]",
      "text/plain": [
       "<Figure size 1080x720 with 1 Axes>"
      ]
     },
     "metadata": {
      "needs_background": "light"
     },
     "output_type": "display_data"
    }
   ],
   "source": [
    "fig, ax = plt.subplots(1, 1, figsize=(15, 10))\n",
    "fig.suptitle('validation accuracy per learning rate and optimizer')\n",
    "ax.set_xlim([df['learning_rate'].min() * 100, df['learning_rate'].max() * 1.01])\n",
    "ax.set_ylim([df['accuracy_valid'].min(), df['accuracy_valid'].max() * 1.01])\n",
    "sns.scatterplot(x=d['learning_rate'], y=d['accuracy_valid'], hue=d['optimizer'], ax=ax)\n",
    "ax.legend(loc='center right')"
   ]
  },
  {
   "cell_type": "code",
   "execution_count": 43,
   "metadata": {},
   "outputs": [
    {
     "name": "stdout",
     "output_type": "stream",
     "text": [
      "Downloading model blob.\n"
     ]
    }
   ],
   "source": [
    "# Best performing model on all data\n",
    "experiment = \"cloud_and_shadow_keras_cnn_bn_large_data_lr_0.00222851_optimizer_Adam_2020_2_14\"\n",
    "model, metadata = get_model_and_metadata_from_gcs(bucket, model_dir, \"h5\", load_model, gcs_model_dir,\n",
    "                                                             experiment)"
   ]
  },
  {
   "cell_type": "code",
   "execution_count": 52,
   "metadata": {},
   "outputs": [
    {
     "data": {
      "text/plain": [
       "0.9292427497314716"
      ]
     },
     "execution_count": 52,
     "metadata": {},
     "output_type": "execute_result"
    }
   ],
   "source": [
    "metadata['accuracy_train']"
   ]
  },
  {
   "cell_type": "code",
   "execution_count": 45,
   "metadata": {},
   "outputs": [
    {
     "name": "stdout",
     "output_type": "stream",
     "text": [
      "binary_crossentropy - cnn with regularization and augmentation 0.2165131\n",
      "accuracy 0.9208333333333333\n",
      "average_precision_score 0.9751448644812428\n"
     ]
    },
    {
     "data": {
      "text/plain": [
       "array([[<matplotlib.axes._subplots.AxesSubplot object at 0x7f353aa58b70>]],\n",
       "      dtype=object)"
      ]
     },
     "execution_count": 45,
     "metadata": {},
     "output_type": "execute_result"
    },
    {
     "data": {
      "image/png": "[encoded data removed]",
      "text/plain": [
       "<Figure size 432x288 with 1 Axes>"
      ]
     },
     "metadata": {
      "needs_background": "light"
     },
     "output_type": "display_data"
    }
   ],
   "source": [
    "test_generator = get_image_dataset(x=x_test, y=y_test, augmentations=None, image_processor=None,\n",
    "                                    band_stats=band_stats, batch_size=batch_size)\n",
    "y_actual_test, y_pred_test, y_pred_probs_test = get_predictions_for_dataset(test_generator, model) \n",
    "\n",
    "print('binary_crossentropy - cnn', \n",
    "      binary_crossentropy(y_actual_test, y_pred_probs_test).numpy())\n",
    "print('accuracy', accuracy_score(y_actual_test, y_pred_test))\n",
    "print('average_precision_score', average_precision_score(y_actual_test, y_pred_probs_test))\n",
    "\n",
    "pd.DataFrame({'cloud_predicted_probability': y_pred_probs_test}).hist()"
   ]
  },
  {
   "cell_type": "code",
   "execution_count": 49,
   "metadata": {},
   "outputs": [
    {
     "data": {
      "image/png": "[encoded data removed]",
      "text/plain": [
       "<Figure size 576x432 with 2 Axes>"
      ]
     },
     "metadata": {
      "needs_background": "light"
     },
     "output_type": "display_data"
    }
   ],
   "source": [
    "cm = confusion_matrix(y_actual_test, y_pred_test)\n",
    "# Put in same format as google automl\n",
    "cm = np.array(\n",
    "    [[cm[1][1], cm[1][0]],\n",
    "     [cm[0][1], cm[0][0]]\n",
    "])\n",
    "plot_confusion_matrix(cm, target_names=['cloud', 'no_cloud'],\n",
    "                          title='Confusion matrix',\n",
    "                          cmap=None,\n",
    "                          normalize=True)"
   ]
  },
  {
   "cell_type": "code",
   "execution_count": 56,
   "metadata": {},
   "outputs": [
    {
     "data": {
      "text/plain": [
       "Text(0.5, 0, 'Confidence')"
      ]
     },
     "execution_count": 56,
     "metadata": {},
     "output_type": "execute_result"
    },
    {
     "data": {
      "image/png": "[encoded data removed]",
      "text/plain": [
       "<Figure size 432x288 with 1 Axes>"
      ]
     },
     "metadata": {},
     "output_type": "display_data"
    }
   ],
   "source": [
    "precision, recall, thresholds = precision_recall_curve(y_actual_test, y_pred_probs_test)\n",
    "\n",
    "precision = precision[:-1]\n",
    "recall = recall[:-1]\n",
    "df = pd.concat([\n",
    "    pd.DataFrame({'stat_name': ['precision' for _ in range(len(precision))],\n",
    "                  'stat_value': precision * 100,\n",
    "                  'threshold': thresholds}),\n",
    "    pd.DataFrame({'stat_name': ['recall' for _ in range(len(precision))],\n",
    "                  'stat_value': recall * 100,\n",
    "                  'threshold': thresholds})    \n",
    "])\n",
    "sns.set()\n",
    "ax = sns.lineplot(y=df['stat_value'], x=df['threshold'], hue=df['stat_name'], \n",
    "                  palette={'precision': 'red', 'recall': 'blue'})\n",
    "ax.set_title('Precision/Recall per Threshold')\n",
    "ax.set_ylabel('')\n",
    "ax.set_xlabel('Confidence')\n",
    "# ax.fill_between(recall,precision, color=\"darkblue\", alpha=0.3)"
   ]
  },
  {
   "cell_type": "code",
   "execution_count": 69,
   "metadata": {},
   "outputs": [
    {
     "data": {
      "text/html": [
       "<div>\n",
       "<style scoped>\n",
       "    .dataframe tbody tr th:only-of-type {\n",
       "        vertical-align: middle;\n",
       "    }\n",
       "\n",
       "    .dataframe tbody tr th {\n",
       "        vertical-align: top;\n",
       "    }\n",
       "\n",
       "    .dataframe thead th {\n",
       "        text-align: right;\n",
       "    }\n",
       "</style>\n",
       "<table border=\"1\" class=\"dataframe\">\n",
       "  <thead>\n",
       "    <tr style=\"text-align: right;\">\n",
       "      <th></th>\n",
       "      <th>precision</th>\n",
       "      <th>recall</th>\n",
       "      <th>threshold</th>\n",
       "    </tr>\n",
       "  </thead>\n",
       "  <tbody>\n",
       "    <tr>\n",
       "      <th>63</th>\n",
       "      <td>0.904762</td>\n",
       "      <td>0.957983</td>\n",
       "      <td>0.256481</td>\n",
       "    </tr>\n",
       "    <tr>\n",
       "      <th>64</th>\n",
       "      <td>0.912000</td>\n",
       "      <td>0.957983</td>\n",
       "      <td>0.262246</td>\n",
       "    </tr>\n",
       "    <tr>\n",
       "      <th>65</th>\n",
       "      <td>0.911290</td>\n",
       "      <td>0.949580</td>\n",
       "      <td>0.289504</td>\n",
       "    </tr>\n",
       "    <tr>\n",
       "      <th>66</th>\n",
       "      <td>0.910569</td>\n",
       "      <td>0.941176</td>\n",
       "      <td>0.292955</td>\n",
       "    </tr>\n",
       "    <tr>\n",
       "      <th>67</th>\n",
       "      <td>0.909836</td>\n",
       "      <td>0.932773</td>\n",
       "      <td>0.297493</td>\n",
       "    </tr>\n",
       "    <tr>\n",
       "      <th>...</th>\n",
       "      <td>...</td>\n",
       "      <td>...</td>\n",
       "      <td>...</td>\n",
       "    </tr>\n",
       "    <tr>\n",
       "      <th>184</th>\n",
       "      <td>1.000000</td>\n",
       "      <td>0.042017</td>\n",
       "      <td>0.999999</td>\n",
       "    </tr>\n",
       "    <tr>\n",
       "      <th>185</th>\n",
       "      <td>1.000000</td>\n",
       "      <td>0.033613</td>\n",
       "      <td>1.000000</td>\n",
       "    </tr>\n",
       "    <tr>\n",
       "      <th>186</th>\n",
       "      <td>1.000000</td>\n",
       "      <td>0.025210</td>\n",
       "      <td>1.000000</td>\n",
       "    </tr>\n",
       "    <tr>\n",
       "      <th>187</th>\n",
       "      <td>1.000000</td>\n",
       "      <td>0.016807</td>\n",
       "      <td>1.000000</td>\n",
       "    </tr>\n",
       "    <tr>\n",
       "      <th>188</th>\n",
       "      <td>1.000000</td>\n",
       "      <td>0.008403</td>\n",
       "      <td>1.000000</td>\n",
       "    </tr>\n",
       "  </tbody>\n",
       "</table>\n",
       "<p>126 rows × 3 columns</p>\n",
       "</div>"
      ],
      "text/plain": [
       "     precision    recall  threshold\n",
       "63    0.904762  0.957983   0.256481\n",
       "64    0.912000  0.957983   0.262246\n",
       "65    0.911290  0.949580   0.289504\n",
       "66    0.910569  0.941176   0.292955\n",
       "67    0.909836  0.932773   0.297493\n",
       "..         ...       ...        ...\n",
       "184   1.000000  0.042017   0.999999\n",
       "185   1.000000  0.033613   1.000000\n",
       "186   1.000000  0.025210   1.000000\n",
       "187   1.000000  0.016807   1.000000\n",
       "188   1.000000  0.008403   1.000000\n",
       "\n",
       "[126 rows x 3 columns]"
      ]
     },
     "execution_count": 69,
     "metadata": {},
     "output_type": "execute_result"
    }
   ],
   "source": [
    "df = pd.DataFrame({'precision': precision, 'recall': recall, 'threshold': thresholds})\n",
    "df[df['threshold'] > .25]"
   ]
  },
  {
   "cell_type": "markdown",
   "metadata": {},
   "source": [
    "# Transfer Learning"
   ]
  },
  {
   "cell_type": "code",
   "execution_count": 70,
   "metadata": {},
   "outputs": [
    {
     "name": "stdout",
     "output_type": "stream",
     "text": [
      "Downloading model blob.\n"
     ]
    }
   ],
   "source": [
    "# experiment_name = \"cloud_and_shadow_resnet_v2_with_aug_2020_2_15\"\n",
    "experiment_name = \"cloud_and_shadow_resnet_v2_with_aug_early_stopping_20_lr_3e-4_2020_2_08\"\n",
    "# model2, metadata2 = get_model_and_metadata_from_gcs(\n",
    "#     bucket, model_dir, \"h5\", load_model, gcs_model_dir, experiment_name)\n",
    "\n",
    "gcs_model_and_metadata_filepath = os.path.join(gcs_model_dir, experiment_name)\n",
    "gcs_metadata_filepath = f\"{gcs_model_dir}/{experiment_name}_metadata.json\"\n",
    "metadata_filepath = f\"{model_dir}/{experiment_name}_metadata.json\"\n",
    "\n",
    "gcs_metadata_blob = bucket.blob(gcs_metadata_filepath)\n",
    "\n",
    "if gcs_metadata_blob.exists():\n",
    "    print('Downloading model blob.')\n",
    "    gcs_metadata_blob.download_to_filename(metadata_filepath)\n",
    "\n",
    "    with open(metadata_filepath, 'r') as json_file:\n",
    "        model_metadata = json.load(json_file)\n",
    "        \n",
    "keys = ['experiment_name', 'n_epochs', 'epochs_trained', 'learning_rate', 'early_stopping_patience', 'elapsed_train_time', 'accuracy_valid', \n",
    "        'accuracy_train', 'f1_score_train', 'f1_score_valid',\n",
    "        'loss']\n",
    "df2 = pd.DataFrame([{key: model_metadata.get(key) for key in keys}])"
   ]
  },
  {
   "cell_type": "code",
   "execution_count": 82,
   "metadata": {},
   "outputs": [
    {
     "data": {
      "image/png": "[encoded data removed]",
      "text/plain": [
       "<Figure size 864x288 with 2 Axes>"
      ]
     },
     "metadata": {
      "needs_background": "light"
     },
     "output_type": "display_data"
    }
   ],
   "source": [
    "graph_model_history(model_metadata['history'], 'small')"
   ]
  },
  {
   "cell_type": "code",
   "execution_count": 83,
   "metadata": {},
   "outputs": [
    {
     "data": {
      "image/png": "[encoded data removed]",
      "text/plain": [
       "<Figure size 864x288 with 2 Axes>"
      ]
     },
     "metadata": {
      "needs_background": "light"
     },
     "output_type": "display_data"
    }
   ],
   "source": [
    "graph_model_history(metadata['history'], 'large')"
   ]
  },
  {
   "cell_type": "code",
   "execution_count": 44,
   "metadata": {},
   "outputs": [
    {
     "name": "stdout",
     "output_type": "stream",
     "text": [
      "Downloading model blob.\n"
     ]
    }
   ],
   "source": [
    "experiment_name = \"cloud_and_shadow_resnet_v2_large_lr_1e-4_2020_2_18\"  \n",
    "model, metadata = get_model_and_metadata_from_gcs(\n",
    "    bucket, model_dir, \"h5\", load_model, gcs_model_dir, experiment_name)\n",
    "keys = ['experiment_name', 'n_epochs', 'epochs_trained', 'learning_rate', 'early_stopping_patience', 'elapsed_train_time', 'accuracy_valid', \n",
    "        'accuracy_train', 'f1_score_train', 'f1_score_valid',\n",
    "        'loss']\n",
    "df = pd.DataFrame([{key: metadata.get(key) for key in keys}])"
   ]
  },
  {
   "cell_type": "code",
   "execution_count": 80,
   "metadata": {},
   "outputs": [
    {
     "data": {
      "text/html": [
       "<div>\n",
       "<style scoped>\n",
       "    .dataframe tbody tr th:only-of-type {\n",
       "        vertical-align: middle;\n",
       "    }\n",
       "\n",
       "    .dataframe tbody tr th {\n",
       "        vertical-align: top;\n",
       "    }\n",
       "\n",
       "    .dataframe thead th {\n",
       "        text-align: right;\n",
       "    }\n",
       "</style>\n",
       "<table border=\"1\" class=\"dataframe\">\n",
       "  <thead>\n",
       "    <tr style=\"text-align: right;\">\n",
       "      <th></th>\n",
       "      <th>experiment_name</th>\n",
       "      <th>n_epochs</th>\n",
       "      <th>epochs_trained</th>\n",
       "      <th>learning_rate</th>\n",
       "      <th>early_stopping_patience</th>\n",
       "      <th>elapsed_train_time</th>\n",
       "      <th>accuracy_valid</th>\n",
       "      <th>accuracy_train</th>\n",
       "      <th>f1_score_train</th>\n",
       "      <th>f1_score_valid</th>\n",
       "      <th>loss</th>\n",
       "    </tr>\n",
       "  </thead>\n",
       "  <tbody>\n",
       "    <tr>\n",
       "      <th>0</th>\n",
       "      <td>cloud_and_shadow_resnet_v2_large_lr_1e-4_2020_...</td>\n",
       "      <td>100</td>\n",
       "      <td>27</td>\n",
       "      <td>0.0001</td>\n",
       "      <td>15</td>\n",
       "      <td>4941.45788</td>\n",
       "      <td>0.904605</td>\n",
       "      <td>0.914205</td>\n",
       "      <td>0.91299</td>\n",
       "      <td>0.901024</td>\n",
       "      <td>0.280935</td>\n",
       "    </tr>\n",
       "  </tbody>\n",
       "</table>\n",
       "</div>"
      ],
      "text/plain": [
       "                                     experiment_name  n_epochs  \\\n",
       "0  cloud_and_shadow_resnet_v2_large_lr_1e-4_2020_...       100   \n",
       "\n",
       "   epochs_trained  learning_rate  early_stopping_patience  elapsed_train_time  \\\n",
       "0              27         0.0001                       15          4941.45788   \n",
       "\n",
       "   accuracy_valid  accuracy_train  f1_score_train  f1_score_valid      loss  \n",
       "0        0.904605        0.914205         0.91299        0.901024  0.280935  "
      ]
     },
     "execution_count": 80,
     "metadata": {},
     "output_type": "execute_result"
    }
   ],
   "source": [
    "df"
   ]
  },
  {
   "cell_type": "code",
   "execution_count": 79,
   "metadata": {},
   "outputs": [
    {
     "name": "stdout",
     "output_type": "stream",
     "text": [
      "6 0.9046052694320679\n",
      "11 0.9150219559669495\n"
     ]
    }
   ],
   "source": [
    "for idx, val in enumerate(metadata['history']['val_accuracy']):\n",
    "    if val >= metadata['accuracy_valid']:\n",
    "        print(idx, val)"
   ]
  },
  {
   "cell_type": "code",
   "execution_count": 45,
   "metadata": {},
   "outputs": [
    {
     "name": "stdout",
     "output_type": "stream",
     "text": [
      "binary_crossentropy - cnn with regularization and augmentation 0.24007708\n",
      "accuracy 0.9173913043478261\n",
      "average_precision_score 0.9763072673068851\n"
     ]
    },
    {
     "data": {
      "text/plain": [
       "array([[<matplotlib.axes._subplots.AxesSubplot object at 0x7fc438ea4940>]],\n",
       "      dtype=object)"
      ]
     },
     "execution_count": 45,
     "metadata": {},
     "output_type": "execute_result"
    },
    {
     "data": {
      "image/png": "[encoded data removed]",
      "text/plain": [
       "<Figure size 432x288 with 1 Axes>"
      ]
     },
     "metadata": {
      "needs_background": "light"
     },
     "output_type": "display_data"
    }
   ],
   "source": [
    "resnet_v2_input_shape = (224, 224, 3)\n",
    "\n",
    "def resnet_v2_image_processor(image):\n",
    "    resized_img = cv2.resize(image, dsize=(resnet_v2_input_shape[0], resnet_v2_input_shape[1]), \n",
    "                             interpolation=cv2.INTER_CUBIC)\n",
    "    normalized_img = cv2.normalize(resized_img, None, 0, 255, norm_type=cv2.NORM_MINMAX)\n",
    "    return resnet_v2.preprocess_input(normalized_img)\n",
    "\n",
    "test_generator = get_image_dataset(x=x_test, y=y_test, augmentations=None, image_processor=resnet_v2_image_processor,\n",
    "                                    band_stats=band_stats, batch_size=batch_size)\n",
    "y_actual_test, y_pred_test, y_pred_probs_test = get_predictions_for_dataset(test_generator, model) \n",
    "\n",
    "print('binary_crossentropy - cnn with regularization and augmentation', \n",
    "      binary_crossentropy(y_actual_test, y_pred_probs_test).numpy())\n",
    "print('accuracy', accuracy_score(y_actual_test, y_pred_test))\n",
    "print('average_precision_score', average_precision_score(y_actual_test, y_pred_probs_test))\n",
    "\n",
    "pd.DataFrame({'cloud_predicted_probability': y_pred_probs_test}).hist()"
   ]
  },
  {
   "cell_type": "code",
   "execution_count": 46,
   "metadata": {},
   "outputs": [
    {
     "data": {
      "text/plain": [
       "(0.9427917620137299, 0.8898488120950324, 0.9155555555555556, None)"
      ]
     },
     "execution_count": 46,
     "metadata": {},
     "output_type": "execute_result"
    }
   ],
   "source": [
    "sklearn.metrics.precision_recall_fscore_support(y_actual_test, y_pred_test, average='binary') "
   ]
  },
  {
   "cell_type": "code",
   "execution_count": null,
   "metadata": {},
   "outputs": [],
   "source": [
    "pd.DataFrame(\n",
    "    index=['hp_tuned_keras_cnn', 'resnet50_v2', 'google_automl']\n",
    ")\n",
    "\n",
    "\n",
    "\n"
   ]
  }
 ],
 "metadata": {
  "kernelspec": {
   "display_name": "Python 3",
   "language": "python",
   "name": "python3"
  },
  "language_info": {
   "codemirror_mode": {
    "name": "ipython",
    "version": 3
   },
   "file_extension": ".py",
   "mimetype": "text/x-python",
   "name": "python",
   "nbconvert_exporter": "python",
   "pygments_lexer": "ipython3",
   "version": "3.6.7"
  }
 },
 "nbformat": 4,
 "nbformat_minor": 4
}
